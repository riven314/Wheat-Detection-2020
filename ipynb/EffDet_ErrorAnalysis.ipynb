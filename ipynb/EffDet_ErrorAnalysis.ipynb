{
 "cells": [
  {
   "cell_type": "code",
   "execution_count": 1,
   "metadata": {},
   "outputs": [],
   "source": [
    "import pandas as pd\n",
    "import numpy as np\n",
    "import cv2\n",
    "import os\n",
    "import random\n",
    "import ast\n",
    "import matplotlib.pyplot as plt\n",
    "\n",
    "from tqdm.notebook import tqdm\n",
    "\n",
    "%matplotlib inline"
   ]
  },
  {
   "cell_type": "code",
   "execution_count": 6,
   "metadata": {},
   "outputs": [],
   "source": [
    "DIR_RESULTS = '/kaggle/input/global-wheat-detection-public'\n",
    "\n",
    "# Your OOF predictions\n",
    "VALID_RESULTS = [\n",
    "    f\"{DIR_RESULTS}/validation_results_fold0_best.csv\",\n",
    "    f\"{DIR_RESULTS}/validation_results_fold1_best.csv\",\n",
    "    f\"{DIR_RESULTS}/validation_results_fold2_best.csv\",\n",
    "    f\"{DIR_RESULTS}/validation_results_fold3_best.csv\",\n",
    "    f\"{DIR_RESULTS}/validation_results_fold4_best.csv\",\n",
    "]\n",
    "\n",
    "# Below this area the size category of the box is 'small'\n",
    "AREA_SMALL = 56 * 56\n",
    "\n",
    "# Below this (and above small) is medium;\n",
    "# Above this is large.\n",
    "AREA_MEDIUM = 96 * 96\n",
    "\n",
    "# If the box is at most this far from either of the borders\n",
    "# we mark the box as 'is_border = True'\n",
    "BORDER_SIZE = 2\n",
    "\n",
    "# In these experiments I used 800px inputs.\n",
    "# For analysis, we have to scale back to 1024px\n",
    "# because the GT boxes are in that size.\n",
    "SCALE = 1024/800\n",
    "\n",
    "# Analizing at this threshold\n",
    "THRESHOLD = 0.5\n",
    "\n",
    "# input dir\n",
    "DIR_INPUT = '/userhome/34/h3509807/wheat-data'\n",
    "DIR_TRAIN = f'{DIR_INPUT}/train'\n",
    "DIR_TEST = f'{DIR_INPUT}/test'"
   ]
  },
  {
   "cell_type": "markdown",
   "metadata": {},
   "source": [
    "#### Training Data"
   ]
  },
  {
   "cell_type": "code",
   "execution_count": 7,
   "metadata": {},
   "outputs": [],
   "source": [
    "train_df = pd.read_csv(f\"{DIR_INPUT}/train.csv\")\n",
    "\n",
    "# From Andrew's kernel\n",
    "train_df[['x', 'y', 'w', 'h']] = pd.DataFrame(\n",
    "    np.stack(train_df['bbox'].apply(lambda x: ast.literal_eval(x)))).astype(np.float32)\n",
    "train_df.drop(columns=['bbox'], inplace=True)\n",
    "\n",
    "train_df['x2'] = train_df['x'] + train_df['w']\n",
    "train_df['y2'] = train_df['y'] + train_df['h']\n",
    "\n",
    "# Calculate the area of the boxes.\n",
    "train_df['area'] = train_df['w'] * train_df['h']\n",
    "\n",
    "# Is the box at the edge of the image\n",
    "train_df['is_border'] = False\n",
    "\n",
    "border_filt = ((train_df['x'] < BORDER_SIZE) | (train_df['y'] < BORDER_SIZE) |\n",
    "             (train_df['x2'] > 1024 - BORDER_SIZE) | (train_df['y2'] > 1024 - BORDER_SIZE))\n",
    "train_df.loc[border_filt, 'is_border'] = True\n",
    "\n",
    "train_df['size'] = 'large'\n",
    "train_df.loc[train_df['area'] < AREA_MEDIUM, 'size'] = 'medium'\n",
    "train_df.loc[train_df['area'] < AREA_SMALL, 'size'] = 'small'\n",
    "\n",
    "# These are the ground-truth boxes\n",
    "train_df['is_gt'] = True\n",
    "\n",
    "train_df['brightness'] = 0.0\n",
    "train_df['contrast'] = 0.0\n",
    "train_df['overlap_iou'] = 0.0\n",
    "\n",
    "train_df.sort_values(by='image_id', inplace=True)"
   ]
  },
  {
   "cell_type": "code",
   "execution_count": null,
   "metadata": {},
   "outputs": [],
   "source": []
  }
 ],
 "metadata": {
  "kernelspec": {
   "display_name": "Python 3",
   "language": "python",
   "name": "python3"
  },
  "language_info": {
   "codemirror_mode": {
    "name": "ipython",
    "version": 3
   },
   "file_extension": ".py",
   "mimetype": "text/x-python",
   "name": "python",
   "nbconvert_exporter": "python",
   "pygments_lexer": "ipython3",
   "version": "3.7.7"
  }
 },
 "nbformat": 4,
 "nbformat_minor": 4
}

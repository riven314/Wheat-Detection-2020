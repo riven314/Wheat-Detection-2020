{
 "cells": [
  {
   "cell_type": "markdown",
   "metadata": {},
   "source": [
    "#### A Deeper Look Inside RetinaNet\n",
    "- What does its anchor boxes look like? \n",
    "- What is each helper function doing?\n",
    "- How to Recover BBox from its output?"
   ]
  },
  {
   "cell_type": "code",
   "execution_count": 1,
   "metadata": {},
   "outputs": [],
   "source": [
    "import os\n",
    "import sys\n",
    "path = os.path.join(os.getcwd(), '..')\n",
    "sys.path.append(path)\n",
    "\n",
    "from pdb import set_trace\n",
    "import warnings \n",
    "warnings.filterwarnings(\"ignore\")\n",
    "\n",
    "from fastai2.vision.all import *\n",
    "\n",
    "from src.data.dblock import build_dblock\n",
    "from src.data.dls import build_dataloaders\n",
    "from src.model.model import get_retinanet, split_param_groups\n",
    "from src.metrics.loss import get_retinanet_loss\n",
    "from src.metrics.mAP import mAP\n",
    "\n",
    "%load_ext autoreload\n",
    "%autoreload 2"
   ]
  },
  {
   "cell_type": "code",
   "execution_count": 2,
   "metadata": {},
   "outputs": [],
   "source": [
    "data_path = '/userhome/34/h3509807/wheat-data'"
   ]
  },
  {
   "cell_type": "code",
   "execution_count": 3,
   "metadata": {},
   "outputs": [],
   "source": [
    "dls = build_dataloaders(\n",
    "    data_path, bs = 8, \n",
    "    resize_sz = 256, norm = False, \n",
    "    rand_seed = 144, test_mode = True\n",
    "    )"
   ]
  },
  {
   "cell_type": "code",
   "execution_count": null,
   "metadata": {},
   "outputs": [],
   "source": []
  }
 ],
 "metadata": {
  "kernelspec": {
   "display_name": "Python 3",
   "language": "python",
   "name": "python3"
  },
  "language_info": {
   "codemirror_mode": {
    "name": "ipython",
    "version": 3
   },
   "file_extension": ".py",
   "mimetype": "text/x-python",
   "name": "python",
   "nbconvert_exporter": "python",
   "pygments_lexer": "ipython3",
   "version": "3.7.7"
  }
 },
 "nbformat": 4,
 "nbformat_minor": 4
}

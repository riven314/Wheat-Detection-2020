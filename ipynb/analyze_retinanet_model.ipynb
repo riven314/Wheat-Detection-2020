{
 "cells": [
  {
   "cell_type": "markdown",
   "metadata": {},
   "source": [
    "### Deeper Look Inside RetinaNet\n",
    "- What does its anchor boxes look like? \n",
    "- What is each helper function doing?\n",
    "- How to Recover BBox from its output?\n",
    "- Why rescaling are applied in activ_to_bbox as regularization?\n",
    "\n",
    "### Notes\n",
    "- bbox regressor activation indicates offset [off_x, off_y, off_w, off_h]\n",
    "- **loss function expects target bboxs to be in the form of [center x, center y, w, h]**\n",
    "- there are helper functions to convert bbox from [off_x, off_y, off_w, off_h] to [center_x, center_y, w, h]\n",
    "- both ```bbox_to_activ``` and ```activ_to_bbox``` have weighing as regularization (i.e. [0.1, 0.1, 0.2, 0.2])\n",
    "\n",
    "### Idea\n",
    "1. visualized Merge Upsampling Layer\n",
    "2. in training loop, plot the classification activations distribution (whether the improvement comes from less confidence prediction, or more confidence prediction)\n",
    "3. check out bbox transformation in loss function calculation\n",
    "\n",
    "### Doubt\n",
    "1. ```unpad()``` def doesn't make sense\n",
    "2. given a batch (tensor in torch.float32), how can I decode it back to PILImage with the right RGB?? \n",
    "    - ```learn.dls.decode(b[0])```\n",
    "3. How to sample a fix batch (with randomized augmentation applied)\n",
    "\n",
    "### Reference\n",
    "- [fastai nbs dl2 on ReinaNet](https://github.com/fastai/course-v3/blob/master/nbs/dl2/pascal.ipynb)"
   ]
  },
  {
   "cell_type": "code",
   "execution_count": 2,
   "metadata": {},
   "outputs": [],
   "source": [
    "import os\n",
    "import sys\n",
    "path = os.path.join(os.getcwd(), '..')\n",
    "sys.path.append(path)\n",
    "\n",
    "from pdb import set_trace\n",
    "import warnings \n",
    "warnings.filterwarnings(\"ignore\")\n",
    "\n",
    "from fastai2.vision.all import *\n",
    "\n",
    "from src.data.dblock import build_dblock\n",
    "from src.data.dls import build_dataloaders\n",
    "from src.model.model import get_retinanet, split_param_groups\n",
    "from src.metrics.loss import get_retinanet_loss\n",
    "from src.metrics.mAP import mAP\n",
    "\n",
    "%load_ext autoreload\n",
    "%autoreload 2"
   ]
  },
  {
   "cell_type": "code",
   "execution_count": 3,
   "metadata": {},
   "outputs": [],
   "source": [
    "data_path = '/userhome/34/h3509807/wheat-data'"
   ]
  },
  {
   "cell_type": "code",
   "execution_count": 4,
   "metadata": {},
   "outputs": [],
   "source": [
    "dls = build_dataloaders(\n",
    "    data_path, bs = 8, \n",
    "    resize_sz = 256, norm = False, \n",
    "    rand_seed = 144, test_mode = True\n",
    "    )"
   ]
  },
  {
   "cell_type": "markdown",
   "metadata": {},
   "source": [
    "#### 1a. Encore Boxes: PyTorch Playground"
   ]
  },
  {
   "cell_type": "code",
   "execution_count": 5,
   "metadata": {},
   "outputs": [
    {
     "data": {
      "text/plain": [
       "tensor([[ 0,  1,  2,  3],\n",
       "        [ 4,  5,  6,  7],\n",
       "        [ 8,  9, 10, 11],\n",
       "        [12, 13, 14, 15]])"
      ]
     },
     "execution_count": 5,
     "metadata": {},
     "output_type": "execute_result"
    }
   ],
   "source": [
    "grids = torch.arange(0, 16).long().view(4, 4)\n",
    "grids"
   ]
  },
  {
   "cell_type": "code",
   "execution_count": 6,
   "metadata": {},
   "outputs": [
    {
     "data": {
      "text/plain": [
       "tensor([-0.7500, -0.2500,  0.2500,  0.7500])"
      ]
     },
     "execution_count": 6,
     "metadata": {},
     "output_type": "execute_result"
    }
   ],
   "source": [
    "W = 4\n",
    "torch.linspace(-1+1/W, 1-1/W, W)"
   ]
  },
  {
   "cell_type": "code",
   "execution_count": 7,
   "metadata": {},
   "outputs": [
    {
     "name": "stdout",
     "output_type": "stream",
     "text": [
      "Object `grid.expand_as` not found.\n"
     ]
    }
   ],
   "source": [
    "grid.expand_as??"
   ]
  },
  {
   "cell_type": "code",
   "execution_count": 8,
   "metadata": {},
   "outputs": [
    {
     "data": {
      "text/plain": [
       "tensor([[ 1,  2,  3,  4],\n",
       "        [ 2,  4,  6,  8],\n",
       "        [ 3,  6,  9, 12],\n",
       "        [ 4,  8, 12, 16]])"
      ]
     },
     "execution_count": 8,
     "metadata": {},
     "output_type": "execute_result"
    }
   ],
   "source": [
    "grid = FloatTensor(4, 4, 2)\n",
    "v1 = torch.arange(1, 5)\n",
    "v2 = torch.arange(1, 5)\n",
    "#torch.ger(v1, v2).expand_as(grid[:, :, 0])\n",
    "torch.ger(v1, v2)"
   ]
  },
  {
   "cell_type": "markdown",
   "metadata": {},
   "source": [
    "#### 1b. Visualize Simple (Square) Encore Boxes"
   ]
  },
  {
   "cell_type": "code",
   "execution_count": 9,
   "metadata": {},
   "outputs": [],
   "source": [
    "def create_grid(size):\n",
    "    \"\"\" \n",
    "    tensor of grid center expressed in \n",
    "    grid.shape = (# GRID, 2) \n",
    "    -1: top/ left, +1: bottom/ right\n",
    "    \"\"\"\n",
    "    H, W = size if isinstance(size, tuple) else (size,size)\n",
    "    grid = FloatTensor(H, W, 2)\n",
    "    linear_points = torch.linspace(-1+1/W, 1-1/W, W) if W > 1 else tensor([0.])\n",
    "    grid[:, :, 1] = torch.ger(torch.ones(H), linear_points).expand_as(grid[:, :, 0])\n",
    "    linear_points = torch.linspace(-1+1/H, 1-1/H, H) if H > 1 else tensor([0.])\n",
    "    grid[:, :, 0] = torch.ger(linear_points, torch.ones(W)).expand_as(grid[:, :, 1])\n",
    "    return grid.view(-1,2)"
   ]
  },
  {
   "cell_type": "code",
   "execution_count": 10,
   "metadata": {},
   "outputs": [
    {
     "data": {
      "text/plain": [
       "tensor([[-0.5000, -0.6667],\n",
       "        [-0.5000,  0.0000],\n",
       "        [-0.5000,  0.6667],\n",
       "        [ 0.5000, -0.6667],\n",
       "        [ 0.5000,  0.0000],\n",
       "        [ 0.5000,  0.6667]])"
      ]
     },
     "execution_count": 10,
     "metadata": {},
     "output_type": "execute_result"
    }
   ],
   "source": [
    "create_grid((2, 3))"
   ]
  },
  {
   "cell_type": "code",
   "execution_count": 11,
   "metadata": {},
   "outputs": [
    {
     "data": {
      "image/png": "[encoded data removed]",
      "text/plain": [
       "<Figure size 360x360 with 1 Axes>"
      ]
     },
     "metadata": {
      "needs_background": "light"
     },
     "output_type": "display_data"
    }
   ],
   "source": [
    "fig, ax = plt.subplots(1, 1, figsize = (5, 5))\n",
    "ax.set_xticks(np.linspace(-1, 1, 4+1))\n",
    "ax.set_yticks(np.linspace(-1, 1, 4+1))\n",
    "ax.set_xlim(-1, 1)\n",
    "ax.set_ylim(1, -1)\n",
    "ax.grid()\n",
    "#ax.set_yticklabels([])\n",
    "#ax.set_xticklabels([])"
   ]
  },
  {
   "cell_type": "code",
   "execution_count": 12,
   "metadata": {},
   "outputs": [],
   "source": [
    "def show_anchors(ancs, size):\n",
    "    _,ax = plt.subplots(1,1, figsize=(8, 8))\n",
    "    ax.set_xticks(np.linspace(-1, 1, size[1]+1))\n",
    "    ax.set_yticks(np.linspace(-1, 1, size[0]+1))\n",
    "    ax.grid()\n",
    "    ax.scatter(ancs[:,1], ancs[:,0]) #y is first\n",
    "    ax.set_yticklabels([])\n",
    "    ax.set_xticklabels([])\n",
    "    ax.set_xlim(-1, 1)\n",
    "    ax.set_ylim(1, -1) #-1 is top, 1 is bottom\n",
    "    for i, (x, y) in enumerate(zip(ancs[:, 1], ancs[:, 0])): \n",
    "        ax.annotate(f'{i}: ({x},{y})', xy = (x-0.15, y-0.1))"
   ]
  },
  {
   "cell_type": "code",
   "execution_count": 13,
   "metadata": {},
   "outputs": [
    {
     "data": {
      "image/png": "[encoded data removed]",
      "text/plain": [
       "<Figure size 576x576 with 1 Axes>"
      ]
     },
     "metadata": {
      "needs_background": "light"
     },
     "output_type": "display_data"
    }
   ],
   "source": [
    "size = (4, 4)\n",
    "show_anchors(create_grid(size), size)"
   ]
  },
  {
   "cell_type": "markdown",
   "metadata": {},
   "source": [
    "#### 1c. Visualize Encore Boxes of Varying Ratios, Scales"
   ]
  },
  {
   "cell_type": "code",
   "execution_count": 14,
   "metadata": {},
   "outputs": [],
   "source": [
    "import matplotlib.cm as cmx\n",
    "import matplotlib.colors as mcolors\n",
    "from matplotlib import patches, patheffects\n",
    "from cycler import cycler"
   ]
  },
  {
   "cell_type": "code",
   "execution_count": 15,
   "metadata": {},
   "outputs": [],
   "source": [
    "def create_anchors(sizes, ratios, scales, flatten=True):\n",
    "    \"Create anchor of `sizes`, `ratios` and `scales`.\"\n",
    "    aspects = [[[s*math.sqrt(r), s*math.sqrt(1/r)] for s in scales] for r in ratios]\n",
    "    aspects = torch.tensor(aspects).view(-1,2)\n",
    "    anchors = []\n",
    "    for h,w in sizes:\n",
    "        # 4 here to have the anchors overlap.\n",
    "        sized_aspects = 4 * (aspects * torch.tensor([2/h,2/w])).unsqueeze(0)\n",
    "        base_grid = create_grid((h,w)).unsqueeze(1)\n",
    "        n,a = base_grid.size(0),aspects.size(0)\n",
    "        ancs = torch.cat([base_grid.expand(n,a,2), sized_aspects.expand(n,a,2)], 2)\n",
    "        anchors.append(ancs.view(h,w,a,4))\n",
    "    return torch.cat([anc.view(-1,4) for anc in anchors],0) if flatten else anchors"
   ]
  },
  {
   "cell_type": "code",
   "execution_count": 16,
   "metadata": {},
   "outputs": [],
   "source": [
    "ratios = [1/2,1,2]\n",
    "scales = [1,2**(-1/3), 2**(-2/3)] \n",
    "#Paper used [1,2**(1/3), 2**(2/3)] but a bigger size (600) too, so the largest feature map gave anchors that cover less of the image.\n",
    "sizes = [(2**i,2**i) for i in range(5)]\n",
    "sizes.reverse() #Predictions come in the order of the smallest feature map to the biggest\n",
    "anchors = create_anchors(sizes, ratios, scales)"
   ]
  },
  {
   "cell_type": "code",
   "execution_count": 17,
   "metadata": {},
   "outputs": [
    {
     "data": {
      "text/plain": [
       "(torch.Size([3069, 4]), 3069)"
      ]
     },
     "execution_count": 17,
     "metadata": {},
     "output_type": "execute_result"
    }
   ],
   "source": [
    "# there are 5 features map of various sizes \n",
    "# for each grid of a features map, it has 9 anchor boxes of different ratios and scales\n",
    "anchors.size(), sum([(2**i) * (2**i) * 9 for i in range(5)])"
   ]
  },
  {
   "cell_type": "code",
   "execution_count": 18,
   "metadata": {},
   "outputs": [],
   "source": [
    "def get_cmap(N):\n",
    "    color_norm  = mcolors.Normalize(vmin=0, vmax=N-1)\n",
    "    return cmx.ScalarMappable(norm=color_norm, cmap='Set3').to_rgba\n",
    "\n",
    "num_color = 12\n",
    "cmap = get_cmap(num_color)\n",
    "color_list = [cmap(float(x)) for x in range(num_color)]"
   ]
  },
  {
   "cell_type": "code",
   "execution_count": 19,
   "metadata": {},
   "outputs": [],
   "source": [
    "def draw_outline(o, lw):\n",
    "    o.set_path_effects([patheffects.Stroke(\n",
    "        linewidth=lw, foreground='black'), patheffects.Normal()])\n",
    "\n",
    "def draw_rect(ax, b, color='white'):\n",
    "    patch = ax.add_patch(patches.Rectangle(b[:2], *b[-2:], fill=False, edgecolor=color, lw=2))\n",
    "    draw_outline(patch, 4)\n",
    "\n",
    "def draw_text(ax, xy, txt, sz=14, color='white'):\n",
    "    text = ax.text(*xy, txt,\n",
    "        verticalalignment='top', color=color, fontsize=sz, weight='bold')\n",
    "    draw_outline(text, 1)\n",
    "    \n",
    "def show_boxes(boxes):\n",
    "    \"Show the `boxes` (size by 4)\"\n",
    "    _, ax = plt.subplots(1,1, figsize=(5,5))\n",
    "    ax.set_xlim(-1,1)\n",
    "    ax.set_ylim(1,-1)\n",
    "    for i, bbox in enumerate(boxes):\n",
    "        bb = bbox.numpy()\n",
    "        rect = [bb[1]-bb[3]/2, bb[0]-bb[2]/2, bb[3], bb[2]]\n",
    "        draw_rect(ax, rect, color=color_list[i % num_color])\n",
    "        draw_text(ax, [bb[1]-bb[3]/2,bb[0]-bb[2]/2], str(i), color=color_list[i % num_color])"
   ]
  },
  {
   "cell_type": "code",
   "execution_count": 20,
   "metadata": {},
   "outputs": [
    {
     "data": {
      "image/png": "[encoded data removed]",
      "text/plain": [
       "<Figure size 360x360 with 1 Axes>"
      ]
     },
     "metadata": {
      "needs_background": "light"
     },
     "output_type": "display_data"
    }
   ],
   "source": [
    "show_boxes(anchors[900:909])"
   ]
  },
  {
   "cell_type": "markdown",
   "metadata": {},
   "source": [
    "#### 2. Recovering Predicted BBoxes from Model Output\n",
    "regression subnet output 4 floating points for a predicted bboxes: [p_y, p_x, p_h, p_w]. predicted bboxes can be recovered by:  \n",
    "- center = [p_y * anc_h + anc_y, p_x * anc_w + anc_x]  \n",
    "- height = anc_h * exp(p_h)  \n",
    "- weight = anc_w * exp(p_w)  \n",
    "\n",
    "if [p_y, p_x, p_h, p_w], predicted bbox is exactly the same as the outstanding anchor box."
   ]
  },
  {
   "cell_type": "code",
   "execution_count": 21,
   "metadata": {},
   "outputs": [],
   "source": [
    "def activ_to_bbox(acts, anchors, flatten = True):\n",
    "    \"\"\"\n",
    "    from offset params to [center x, center y, width, height] \n",
    "    \"\"\"\n",
    "    if flatten:\n",
    "        # why there is a scaling on activation??\n",
    "        acts.mul_(acts.new_tensor([[0.1, 0.1, 0.2, 0.2]]))\n",
    "        centers = anchors[..., 2:] * acts[..., :2] + anchors[..., :2]\n",
    "        sizes = anchors[..., 2:] * torch.exp(acts[..., :2])\n",
    "        return torch.cat([centers, sizes], -1)\n",
    "    else: return [activ_to_bbox(act,anc) for act,anc in zip(acts, anchors)]\n",
    "    return res"
   ]
  },
  {
   "cell_type": "code",
   "execution_count": 22,
   "metadata": {},
   "outputs": [
    {
     "data": {
      "text/plain": [
       "tensor([[-0.6667, -0.7500,  0.6667,  0.5000],\n",
       "        [-0.6667, -0.2500,  0.6667,  0.5000],\n",
       "        [-0.6667,  0.2500,  0.6667,  0.5000],\n",
       "        [-0.6667,  0.7500,  0.6667,  0.5000],\n",
       "        [ 0.0000, -0.7500,  0.6667,  0.5000],\n",
       "        [ 0.0000, -0.2500,  0.6667,  0.5000],\n",
       "        [ 0.0000,  0.2500,  0.6667,  0.5000],\n",
       "        [ 0.0000,  0.7500,  0.6667,  0.5000],\n",
       "        [ 0.6667, -0.7500,  0.6667,  0.5000],\n",
       "        [ 0.6667, -0.2500,  0.6667,  0.5000],\n",
       "        [ 0.6667,  0.2500,  0.6667,  0.5000],\n",
       "        [ 0.6667,  0.7500,  0.6667,  0.5000]])"
      ]
     },
     "execution_count": 22,
     "metadata": {},
     "output_type": "execute_result"
    }
   ],
   "source": [
    "size=(3, 4)\n",
    "anchors = create_grid(size)\n",
    "anchors = torch.cat([anchors, torch.tensor([2/size[0],2/size[1]]).expand_as(anchors)], 1)\n",
    "anchors"
   ]
  },
  {
   "cell_type": "code",
   "execution_count": 23,
   "metadata": {},
   "outputs": [
    {
     "data": {
      "text/plain": [
       "tensor([[-6.8098e-01, -7.3879e-01,  6.5250e-01,  5.1134e-01],\n",
       "        [-6.7579e-01, -2.4489e-01,  6.5760e-01,  5.0513e-01],\n",
       "        [-6.6156e-01,  2.5724e-01,  6.7179e-01,  5.0729e-01],\n",
       "        [-6.7540e-01,  7.4713e-01,  6.5799e-01,  4.9714e-01],\n",
       "        [-8.8013e-03, -7.5205e-01,  6.5792e-01,  4.9796e-01],\n",
       "        [ 8.8930e-03, -2.5022e-01,  6.7562e-01,  4.9978e-01],\n",
       "        [-4.8297e-03,  2.5792e-01,  6.6185e-01,  5.0798e-01],\n",
       "        [-6.4879e-04,  7.5672e-01,  6.6602e-01,  5.0676e-01],\n",
       "        [ 6.6712e-01, -7.5029e-01,  6.6712e-01,  4.9971e-01],\n",
       "        [ 6.6726e-01, -2.5402e-01,  6.6726e-01,  4.9599e-01],\n",
       "        [ 6.7648e-01,  2.4554e-01,  6.7655e-01,  4.9556e-01],\n",
       "        [ 6.6080e-01,  7.4820e-01,  6.6083e-01,  4.9820e-01]])"
      ]
     },
     "execution_count": 23,
     "metadata": {},
     "output_type": "execute_result"
    }
   ],
   "source": [
    "activations = torch.randn(size[0] * size[1], 4) * 0.1\n",
    "bboxes = activ_to_bbox(activations, anchors)\n",
    "bboxes"
   ]
  },
  {
   "cell_type": "code",
   "execution_count": 24,
   "metadata": {},
   "outputs": [],
   "source": [
    "def cthw2tlbr(boxes):\n",
    "    \"Convert center/size format `boxes` to top/left bottom/right corners.\"\n",
    "    top_left = boxes[:,:2] - boxes[:,2:]/2\n",
    "    bot_right = boxes[:,:2] + boxes[:,2:]/2\n",
    "    return torch.cat([top_left, bot_right], 1)"
   ]
  },
  {
   "cell_type": "code",
   "execution_count": 25,
   "metadata": {},
   "outputs": [
    {
     "data": {
      "text/plain": [
       "tensor([[-1.0072e+00, -9.9446e-01, -3.5473e-01, -4.8312e-01],\n",
       "        [-1.0046e+00, -4.9746e-01, -3.4699e-01,  7.6749e-03],\n",
       "        [-9.9746e-01,  3.5920e-03, -3.2567e-01,  5.1088e-01],\n",
       "        [-1.0044e+00,  4.9856e-01, -3.4641e-01,  9.9570e-01],\n",
       "        [-3.3776e-01, -1.0010e+00,  3.2016e-01, -5.0307e-01],\n",
       "        [-3.2892e-01, -5.0011e-01,  3.4670e-01, -3.2847e-04],\n",
       "        [-3.3576e-01,  3.9282e-03,  3.2610e-01,  5.1191e-01],\n",
       "        [-3.3366e-01,  5.0334e-01,  3.3236e-01,  1.0101e+00],\n",
       "        [ 3.3356e-01, -1.0001e+00,  1.0007e+00, -5.0043e-01],\n",
       "        [ 3.3363e-01, -5.0202e-01,  1.0009e+00, -6.0279e-03],\n",
       "        [ 3.3820e-01, -2.2392e-03,  1.0147e+00,  4.9332e-01],\n",
       "        [ 3.3039e-01,  4.9910e-01,  9.9121e-01,  9.9730e-01]])"
      ]
     },
     "execution_count": 25,
     "metadata": {},
     "output_type": "execute_result"
    }
   ],
   "source": [
    "tlbr_bboxes = cthw2tlbr(bboxes)\n",
    "tlbr_bboxes"
   ]
  },
  {
   "cell_type": "markdown",
   "metadata": {},
   "source": [
    "#### 3. More about RetinaNet Modules"
   ]
  },
  {
   "cell_type": "code",
   "execution_count": 26,
   "metadata": {},
   "outputs": [],
   "source": [
    "model = get_retinanet()"
   ]
  },
  {
   "cell_type": "markdown",
   "metadata": {},
   "source": [
    "#### 3a. Classification Subnet\n",
    "- classification subnet of fastai's RetinaNet doesn't include sigmoid activation function at the end.\n",
    "- final number of filters is 9 because we have one class (wheat) and 9 different anchor boxes per grid (i.e. 1*9 = 9). Note that unlike YOLO and SSD, background doesn't include as a class so we only have 1 class in this case."
   ]
  },
  {
   "cell_type": "code",
   "execution_count": 27,
   "metadata": {},
   "outputs": [
    {
     "data": {
      "text/plain": [
       "Sequential(\n",
       "  (0): ConvLayer(\n",
       "    (0): Conv2d(256, 256, kernel_size=(3, 3), stride=(1, 1), padding=(1, 1))\n",
       "    (1): ReLU()\n",
       "  )\n",
       "  (1): ConvLayer(\n",
       "    (0): Conv2d(256, 256, kernel_size=(3, 3), stride=(1, 1), padding=(1, 1))\n",
       "    (1): ReLU()\n",
       "  )\n",
       "  (2): ConvLayer(\n",
       "    (0): Conv2d(256, 256, kernel_size=(3, 3), stride=(1, 1), padding=(1, 1))\n",
       "    (1): ReLU()\n",
       "  )\n",
       "  (3): ConvLayer(\n",
       "    (0): Conv2d(256, 256, kernel_size=(3, 3), stride=(1, 1), padding=(1, 1))\n",
       "    (1): ReLU()\n",
       "  )\n",
       "  (4): Conv2d(256, 9, kernel_size=(3, 3), stride=(1, 1), padding=(1, 1))\n",
       ")"
      ]
     },
     "execution_count": 27,
     "metadata": {},
     "output_type": "execute_result"
    }
   ],
   "source": [
    "model.classifier"
   ]
  },
  {
   "cell_type": "markdown",
   "metadata": {},
   "source": [
    "##### 3b. Box Regression Subnet\n",
    "- Final number of filters are 36 because we have 4 floating outputs for a bounding box, and 9 anchor boxes per grid (i.e. 4*9 = 36)."
   ]
  },
  {
   "cell_type": "code",
   "execution_count": 28,
   "metadata": {},
   "outputs": [
    {
     "data": {
      "text/plain": [
       "Sequential(\n",
       "  (0): ConvLayer(\n",
       "    (0): Conv2d(256, 256, kernel_size=(3, 3), stride=(1, 1), padding=(1, 1))\n",
       "    (1): ReLU()\n",
       "  )\n",
       "  (1): ConvLayer(\n",
       "    (0): Conv2d(256, 256, kernel_size=(3, 3), stride=(1, 1), padding=(1, 1))\n",
       "    (1): ReLU()\n",
       "  )\n",
       "  (2): ConvLayer(\n",
       "    (0): Conv2d(256, 256, kernel_size=(3, 3), stride=(1, 1), padding=(1, 1))\n",
       "    (1): ReLU()\n",
       "  )\n",
       "  (3): ConvLayer(\n",
       "    (0): Conv2d(256, 256, kernel_size=(3, 3), stride=(1, 1), padding=(1, 1))\n",
       "    (1): ReLU()\n",
       "  )\n",
       "  (4): Conv2d(256, 36, kernel_size=(3, 3), stride=(1, 1), padding=(1, 1))\n",
       ")"
      ]
     },
     "execution_count": 28,
     "metadata": {},
     "output_type": "execute_result"
    }
   ],
   "source": [
    "model.box_regressor"
   ]
  },
  {
   "cell_type": "markdown",
   "metadata": {},
   "source": [
    "#### 3c. Try to Visualize LateralUpsampleMerge\n",
    "visualize how two features 1d map adding together"
   ]
  },
  {
   "cell_type": "code",
   "execution_count": 73,
   "metadata": {},
   "outputs": [],
   "source": [
    "from src.model.RetinaNet import LateralUpsampleMerge"
   ]
  },
  {
   "cell_type": "code",
   "execution_count": 74,
   "metadata": {},
   "outputs": [],
   "source": [
    "class DummyHook(Tensor):\n",
    "    def __init__(self, t):\n",
    "        self.stored = t"
   ]
  },
  {
   "cell_type": "code",
   "execution_count": 88,
   "metadata": {},
   "outputs": [],
   "source": [
    "upsample_t = DummyHook(torch.randn(1, 1, 6, 6))\n",
    "merger = LateralUpsampleMerge(1, 1, upsample_t)\n",
    "t = torch.randn(1, 1, 3, 3)\n",
    "out = merger(t)"
   ]
  },
  {
   "cell_type": "code",
   "execution_count": 89,
   "metadata": {},
   "outputs": [
    {
     "data": {
      "image/png": "[encoded data removed]",
      "text/plain": [
       "<Figure size 864x432 with 3 Axes>"
      ]
     },
     "metadata": {
      "needs_background": "light"
     },
     "output_type": "display_data"
    }
   ],
   "source": [
    "fig, axs = plt.subplots(1, 3, figsize = (12, 6))\n",
    "\n",
    "axs[0].imshow(upsample_t.cpu().squeeze().numpy(), vmin = -3, vmax = 3)\n",
    "axs[1].imshow(t.cpu().squeeze().numpy(), vmin = -3, vmax = 3)\n",
    "axs[2].imshow(out.detach().squeeze().cpu().numpy(), vmin = -3, vmax = 3);"
   ]
  },
  {
   "cell_type": "markdown",
   "metadata": {},
   "source": [
    "#### 3c. Overall Model Hierarchy"
   ]
  },
  {
   "cell_type": "code",
   "execution_count": 29,
   "metadata": {},
   "outputs": [
    {
     "name": "stdout",
     "output_type": "stream",
     "text": [
      "0: encoder (8)\n",
      "1: c5top5 (0)\n",
      "2: c5top6 (0)\n",
      "3: p6top7 (2)\n",
      "4: merges (0)\n",
      "5: smoothers (0)\n",
      "6: classifier (5)\n",
      "7: box_regressor (5)\n"
     ]
    }
   ],
   "source": [
    "for idx, (name, m) in enumerate(model.named_children()):\n",
    "    l = len(m) if isinstance(m, nn.Sequential) else 0\n",
    "    print(f'{idx}: {name} ({l})')"
   ]
  },
  {
   "cell_type": "markdown",
   "metadata": {},
   "source": [
    "#### 4a. Prepare Setup (DataLoaders, Learner, RetinaNet... etc.)"
   ]
  },
  {
   "cell_type": "code",
   "execution_count": 161,
   "metadata": {},
   "outputs": [],
   "source": [
    "from src.metrics.utils import activ_to_bbox, create_anchors, tlbr2cthw"
   ]
  },
  {
   "cell_type": "code",
   "execution_count": 162,
   "metadata": {},
   "outputs": [
    {
     "data": {
      "text/plain": [
       "<fastai2.learner.Learner at 0x14ba75264f10>"
      ]
     },
     "execution_count": 162,
     "metadata": {},
     "output_type": "execute_result"
    }
   ],
   "source": [
    "data_path = Path('/userhome/34/h3509807/wheat-data')\n",
    "dls = build_dataloaders(data_path, bs = 8, \n",
    "                        resize_sz = 256, norm = True, \n",
    "                        rand_seed = 144, test_mode = True)\n",
    "\n",
    "model.cuda()\n",
    "retinanet_loss = get_retinanet_loss(ratios = None, scales = None)\n",
    "\n",
    "learn = Learner(dls, model, \n",
    "                loss_func = retinanet_loss, \n",
    "                splitter = split_param_groups, \n",
    "                path = Path('..'))\n",
    "learn.load('retina_learner')"
   ]
  },
  {
   "cell_type": "code",
   "execution_count": 163,
   "metadata": {},
   "outputs": [
    {
     "data": {
      "text/plain": [
       "(list, 3)"
      ]
     },
     "execution_count": 163,
     "metadata": {},
     "output_type": "execute_result"
    }
   ],
   "source": [
    "b = learn.dls.one_batch()\n",
    "\n",
    "learn.model.eval()\n",
    "with torch.no_grad():\n",
    "    output = learn.model(b[0])\n",
    "type(output), len(output)"
   ]
  },
  {
   "cell_type": "code",
   "execution_count": 164,
   "metadata": {},
   "outputs": [
    {
     "data": {
      "text/plain": [
       "(torch.Size([46836, 4]), torch.Size([46836, 4]))"
      ]
     },
     "execution_count": 164,
     "metadata": {},
     "output_type": "execute_result"
    }
   ],
   "source": [
    "bbox_pred = output[1][5]\n",
    "sizes = output[2]\n",
    "\n",
    "scales = learn.loss_func.scales\n",
    "ratios = learn.loss_func.ratios\n",
    "anchors = create_anchors(sizes, ratios, scales).to(bbox_pred.device)\n",
    "\n",
    "bbox_pred.shape, anchors.shape"
   ]
  },
  {
   "cell_type": "markdown",
   "metadata": {},
   "source": [
    "#### 4b. Process RetinaNet Outputs"
   ]
  },
  {
   "cell_type": "code",
   "execution_count": 165,
   "metadata": {},
   "outputs": [],
   "source": [
    "def activ_to_bbox(acts, anchors, flatten = True):\n",
    "    \"Extrapolate bounding boxes on anchors from the model activations.\"\n",
    "    if flatten:\n",
    "        acts.mul_(acts.new_tensor([[0.1, 0.1, 0.2, 0.2]])) #Can't remember where those scales come from, but they help regularize\n",
    "        centers = anchors[...,2:] * acts[...,:2] + anchors[...,:2]\n",
    "        sizes = anchors[...,2:] * torch.exp(acts[...,:2])\n",
    "        return torch.cat([centers, sizes], -1)\n",
    "    else: return [activ_to_bbox(act,anc) for act,anc in zip(acts, anchors)]\n",
    "    return res"
   ]
  },
  {
   "cell_type": "code",
   "execution_count": 166,
   "metadata": {},
   "outputs": [
    {
     "data": {
      "text/plain": [
       "(tensor([[ 0.0126,  0.0091,  0.0377, -0.0406],\n",
       "         [ 0.0052,  0.0088,  0.0611, -0.0374],\n",
       "         [ 0.0091,  0.0018,  0.0771, -0.0336],\n",
       "         [ 0.0170,  0.0092, -0.0090, -0.0098],\n",
       "         [ 0.0116,  0.0118,  0.0144,  0.0033]], device='cuda:0'),\n",
       " tensor([[-0.9665, -0.9655,  0.1790,  0.3568],\n",
       "         [-0.9680, -0.9663,  0.1410,  0.2831],\n",
       "         [-0.9677, -0.9684,  0.1124,  0.2231],\n",
       "         [-0.9645, -0.9665,  0.2543,  0.2523],\n",
       "         [-0.9664, -0.9664,  0.2007,  0.2008]], device='cuda:0'))"
      ]
     },
     "execution_count": 166,
     "metadata": {},
     "output_type": "execute_result"
    }
   ],
   "source": [
    "# from offset to center-wh\n",
    "cwh_bbox_pred = activ_to_bbox(bbox_pred, anchors)\n",
    "bbox_pred[:5], cwh_bbox_pred[:5]"
   ]
  },
  {
   "cell_type": "code",
   "execution_count": 167,
   "metadata": {},
   "outputs": [],
   "source": [
    "def process_output(output, i, detect_thresh=0.25):\n",
    "    \"\"\" \n",
    "    Process `output[i]` and return the predicted bboxes above `detect_thresh`.\n",
    "    \n",
    "    :return:\n",
    "        bbox_pred : bbox in normalized cthw format\n",
    "        scores : confidence score after filtering\n",
    "        preds : class index for a predicted bbox\n",
    "    \"\"\"\n",
    "    clas_pred,bbox_pred,sizes = output[0][i], output[1][i], output[2]\n",
    "    anchors = create_anchors(sizes, ratios, scales).to(clas_pred.device)\n",
    "    bbox_pred = activ_to_bbox(bbox_pred, anchors)\n",
    "    clas_pred = torch.sigmoid(clas_pred)\n",
    "    # argmax --> sigmoid(.) --> apply threshold\n",
    "    detect_mask = clas_pred.max(1)[0] > detect_thresh\n",
    "    bbox_pred, clas_pred = bbox_pred[detect_mask], clas_pred[detect_mask]\n",
    "    # still expressed in cthw \n",
    "    bbox_pred = tlbr2cthw(torch.clamp(cthw2tlbr(bbox_pred), min=-1, max=1))    \n",
    "    scores, preds = clas_pred.max(1)\n",
    "    return bbox_pred, scores, preds"
   ]
  },
  {
   "cell_type": "code",
   "execution_count": 168,
   "metadata": {},
   "outputs": [],
   "source": [
    "clean_bbox_pred, clean_scores, clean_preds = process_output(output, 5)"
   ]
  },
  {
   "cell_type": "code",
   "execution_count": 202,
   "metadata": {},
   "outputs": [
    {
     "data": {
      "text/plain": [
       "tensor([[-0.9064,  0.1562,  0.1402,  0.2805],\n",
       "        [-0.9062,  0.1561,  0.1576,  0.1574],\n",
       "        [-0.9064,  0.2187,  0.1402,  0.2806],\n",
       "        ...,\n",
       "        [ 0.9217,  0.1405,  0.1248,  0.1249],\n",
       "        [ 0.9217,  0.1718,  0.1248,  0.1249],\n",
       "        [ 0.9217,  0.2030,  0.1248,  0.1249]], device='cuda:0')"
      ]
     },
     "execution_count": 202,
     "metadata": {},
     "output_type": "execute_result"
    }
   ],
   "source": [
    "clean_bbox_pred"
   ]
  },
  {
   "cell_type": "markdown",
   "metadata": {},
   "source": [
    "#### 4c. Process Batch Input and Target (using ```unpad```)\n",
    "- why ```unpad``` definition is like this??"
   ]
  },
  {
   "cell_type": "code",
   "execution_count": 197,
   "metadata": {},
   "outputs": [],
   "source": [
    "def unpad(tgt_bbox, tgt_clas, pad_idx=0):\n",
    "    i = torch.min(torch.nonzero(tgt_clas-pad_idx))\n",
    "    return tlbr2cthw(tgt_bbox[i:]), tgt_clas[i:]-1+pad_idx"
   ]
  },
  {
   "cell_type": "code",
   "execution_count": 198,
   "metadata": {},
   "outputs": [
    {
     "data": {
      "text/plain": [
       "(torch.Size([35, 4]), torch.Size([35]))"
      ]
     },
     "execution_count": 198,
     "metadata": {},
     "output_type": "execute_result"
    }
   ],
   "source": [
    "b = learn.dls.one_batch()\n",
    "tgt_bbox, tgt_clas = b[1][5], b[2][5]\n",
    "\n",
    "tgt_bbox.shape, tgt_clas.shape"
   ]
  },
  {
   "cell_type": "code",
   "execution_count": 199,
   "metadata": {},
   "outputs": [
    {
     "data": {
      "text/plain": [
       "tensor([1, 1, 1, 1, 1, 1, 1, 1, 1, 1, 1, 1, 1, 1, 1, 1, 1, 1, 1, 1, 1, 1, 1, 1,\n",
       "        0, 0, 0, 0, 0, 0, 0, 0, 0, 0, 0], device='cuda:0')"
      ]
     },
     "execution_count": 199,
     "metadata": {},
     "output_type": "execute_result"
    }
   ],
   "source": [
    "tgt_clas"
   ]
  },
  {
   "cell_type": "code",
   "execution_count": 200,
   "metadata": {},
   "outputs": [
    {
     "data": {
      "text/plain": [
       "(torch.Size([35, 4]), torch.Size([35]))"
      ]
     },
     "execution_count": 200,
     "metadata": {},
     "output_type": "execute_result"
    }
   ],
   "source": [
    "new_tgt_bbox, new_tgt_clas = unpad(tgt_bbox, tgt_clas, pad_idx = 0)\n",
    "new_tgt_bbox.shape, new_tgt_clas.shape"
   ]
  },
  {
   "cell_type": "code",
   "execution_count": 201,
   "metadata": {},
   "outputs": [
    {
     "data": {
      "text/plain": [
       "tensor([ 0,  0,  0,  0,  0,  0,  0,  0,  0,  0,  0,  0,  0,  0,  0,  0,  0,  0,\n",
       "         0,  0,  0,  0,  0,  0, -1, -1, -1, -1, -1, -1, -1, -1, -1, -1, -1],\n",
       "       device='cuda:0')"
      ]
     },
     "execution_count": 201,
     "metadata": {},
     "output_type": "execute_result"
    }
   ],
   "source": [
    "new_tgt_clas"
   ]
  },
  {
   "cell_type": "markdown",
   "metadata": {},
   "source": [
    "#### 4d. Plot Prediction"
   ]
  },
  {
   "cell_type": "code",
   "execution_count": 256,
   "metadata": {},
   "outputs": [],
   "source": [
    "def intersection(anchors, targets):\n",
    "    \"Compute the sizes of the intersections of `anchors` by `targets`.\"\n",
    "    ancs, tgts = cthw2tlbr(anchors), cthw2tlbr(targets)\n",
    "    a, t = ancs.size(0), tgts.size(0)\n",
    "    ancs, tgts = ancs.unsqueeze(1).expand(a,t,4), tgts.unsqueeze(0).expand(a,t,4)\n",
    "    top_left_i = torch.max(ancs[...,:2], tgts[...,:2])\n",
    "    bot_right_i = torch.min(ancs[...,2:], tgts[...,2:])\n",
    "    sizes = torch.clamp(bot_right_i - top_left_i, min=0) \n",
    "    return sizes[...,0] * sizes[...,1]\n",
    "\n",
    "def IoU_values(anchors, targets):\n",
    "    \"Compute the IoU values of `anchors` by `targets`.\"\n",
    "    inter = intersection(anchors, targets)\n",
    "    anc_sz, tgt_sz = anchors[:,2] * anchors[:,3], targets[:,2] * targets[:,3]\n",
    "    union = anc_sz.unsqueeze(1) + tgt_sz.unsqueeze(0) - inter\n",
    "    return inter/(union+1e-8)\n",
    "\n",
    "def nms(boxes, scores, thresh=0.3):\n",
    "    idx_sort = scores.argsort(descending=True)\n",
    "    boxes, scores = boxes[idx_sort], scores[idx_sort]\n",
    "    to_keep, indexes = [], torch.LongTensor(range_of(scores))\n",
    "    while len(scores) > 0:\n",
    "        to_keep.append(idx_sort[indexes[0]])\n",
    "        iou_vals = IoU_values(boxes, boxes[:1]).squeeze()\n",
    "        mask_keep = iou_vals < thresh\n",
    "        if len(mask_keep.nonzero()) == 0: break\n",
    "        boxes, scores, indexes = boxes[mask_keep], scores[mask_keep], indexes[mask_keep]\n",
    "    return LongTensor(to_keep)"
   ]
  },
  {
   "cell_type": "code",
   "execution_count": 275,
   "metadata": {},
   "outputs": [],
   "source": [
    "import matplotlib.cm as cmx\n",
    "import matplotlib.colors as mcolors\n",
    "from cycler import cycler\n",
    "\n",
    "def _draw_outline(o, lw):\n",
    "    \"Outline bounding box onto image `Patch`.\"\n",
    "    o.set_path_effects([patheffects.Stroke(\n",
    "        linewidth=lw, foreground='black'), patheffects.Normal()])\n",
    "\n",
    "def draw_rect(ax, b, color:str='white', text=None, text_size=14):\n",
    "    \"Draw bounding box on `ax`.\"\n",
    "    patch = ax.add_patch(patches.Rectangle(b[:2], *b[-2:], fill=False, edgecolor=color, lw=2))\n",
    "    _draw_outline(patch, 4)\n",
    "    if text is not None:\n",
    "        patch = ax.text(*b[:2], text, verticalalignment='top', color=color, fontsize=text_size, weight='bold')\n",
    "        _draw_outline(patch,1)"
   ]
  },
  {
   "cell_type": "code",
   "execution_count": 276,
   "metadata": {},
   "outputs": [],
   "source": [
    "def show_preds(img, output, idx, detect_thresh=0.25, classes=None, ax=None):\n",
    "    bbox_pred, scores, preds = process_output(output, idx, detect_thresh)\n",
    "    if len(scores) != 0:\n",
    "        to_keep = nms(bbox_pred, scores)\n",
    "        bbox_pred, preds, scores = bbox_pred[to_keep].cpu(), preds[to_keep].cpu(), scores[to_keep].cpu()\n",
    "        t_sz = torch.Tensor([*img.size])[None].float()\n",
    "        bbox_pred[:,:2] = bbox_pred[:,:2] - bbox_pred[:,2:]/2\n",
    "        bbox_pred[:,:2] = (bbox_pred[:,:2] + 1) * t_sz/2\n",
    "        bbox_pred[:,2:] = bbox_pred[:,2:] * t_sz\n",
    "        bbox_pred = bbox_pred.long()\n",
    "    if ax is None: _, ax = plt.subplots(1,1)\n",
    "    img.show(ax=ax)\n",
    "    for bbox, c, scr in zip(bbox_pred, preds, scores):\n",
    "        txt = str(c.item()) if classes is None else classes[c.item()+1]\n",
    "        draw_rect(ax, [bbox[1],bbox[0],bbox[3],bbox[2]], text=f'{txt} {scr:.2f}')"
   ]
  },
  {
   "cell_type": "code",
   "execution_count": 277,
   "metadata": {},
   "outputs": [
    {
     "data": {
      "text/plain": [
       "torch.Tensor"
      ]
     },
     "execution_count": 277,
     "metadata": {},
     "output_type": "execute_result"
    }
   ],
   "source": [
    "b = learn.dls.one_batch()\n",
    "type(b[0][0])"
   ]
  },
  {
   "cell_type": "code",
   "execution_count": 278,
   "metadata": {},
   "outputs": [],
   "source": [
    "# decode using TfmdList\n",
    "imgs, bboxs, classes = learn.dls.decode(b)"
   ]
  },
  {
   "cell_type": "code",
   "execution_count": 279,
   "metadata": {},
   "outputs": [],
   "source": [
    "with torch.no_grad():\n",
    "    outputs = learn.model(b[0])\n",
    "\n",
    "img = TensorImage(imgs[0])\n",
    "img = PILImage.create(img)"
   ]
  },
  {
   "cell_type": "code",
   "execution_count": 288,
   "metadata": {},
   "outputs": [
    {
     "data": {
      "image/png": "[encoded data removed]",
      "text/plain": [
       "<Figure size 432x288 with 1 Axes>"
      ]
     },
     "metadata": {
      "needs_background": "light"
     },
     "output_type": "display_data"
    }
   ],
   "source": [
    "show_preds(img, outputs, 0, detect_thresh = 0.5)"
   ]
  }
 ],
 "metadata": {
  "kernelspec": {
   "display_name": "Python 3",
   "language": "python",
   "name": "python3"
  },
  "language_info": {
   "codemirror_mode": {
    "name": "ipython",
    "version": 3
   },
   "file_extension": ".py",
   "mimetype": "text/x-python",
   "name": "python",
   "nbconvert_exporter": "python",
   "pygments_lexer": "ipython3",
   "version": "3.7.7"
  }
 },
 "nbformat": 4,
 "nbformat_minor": 4
}

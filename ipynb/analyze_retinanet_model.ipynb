{
 "cells": [
  {
   "cell_type": "markdown",
   "metadata": {},
   "source": [
    "### Deeper Look Inside RetinaNet\n",
    "- What does its anchor boxes look like? \n",
    "- What is each helper function doing?\n",
    "- How to Recover BBox from its output?\n",
    "- Why rescaling are applied in activ_to_bbox as regularization?\n",
    "\n",
    "### Notes\n",
    "- bbox regressor activation indicates offset [off_x, off_y, off_w, off_h]\n",
    "- **loss function expects target bboxs to be in the form of [center x, center y, w, h]**\n",
    "- there are helper functions to convert bbox from [off_x, off_y, off_w, off_h] to [center_x, center_y, w, h]\n",
    "\n",
    "### Idea\n",
    "1. visualized Merge Upsampling Layer\n",
    "2. in training loop, plot the classification activations distribution (whether the improvement comes from less confidence prediction, or more confidence prediction)\n",
    "\n",
    "### Reference\n",
    "- [fastai nbs dl2 on ReinaNet](https://github.com/fastai/course-v3/blob/master/nbs/dl2/pascal.ipynb)"
   ]
  },
  {
   "cell_type": "code",
   "execution_count": 1,
   "metadata": {},
   "outputs": [],
   "source": [
    "import os\n",
    "import sys\n",
    "path = os.path.join(os.getcwd(), '..')\n",
    "sys.path.append(path)\n",
    "\n",
    "from pdb import set_trace\n",
    "import warnings \n",
    "warnings.filterwarnings(\"ignore\")\n",
    "\n",
    "from fastai2.vision.all import *\n",
    "\n",
    "from src.data.dblock import build_dblock\n",
    "from src.data.dls import build_dataloaders\n",
    "from src.model.model import get_retinanet, split_param_groups\n",
    "from src.metrics.loss import get_retinanet_loss\n",
    "from src.metrics.mAP import mAP\n",
    "\n",
    "%load_ext autoreload\n",
    "%autoreload 2"
   ]
  },
  {
   "cell_type": "code",
   "execution_count": 2,
   "metadata": {},
   "outputs": [],
   "source": [
    "data_path = '/userhome/34/h3509807/wheat-data'"
   ]
  },
  {
   "cell_type": "code",
   "execution_count": 3,
   "metadata": {},
   "outputs": [],
   "source": [
    "dls = build_dataloaders(\n",
    "    data_path, bs = 8, \n",
    "    resize_sz = 256, norm = False, \n",
    "    rand_seed = 144, test_mode = True\n",
    "    )"
   ]
  },
  {
   "cell_type": "markdown",
   "metadata": {},
   "source": [
    "#### 1a. Encore Boxes: PyTorch Playground"
   ]
  },
  {
   "cell_type": "code",
   "execution_count": 17,
   "metadata": {},
   "outputs": [
    {
     "data": {
      "text/plain": [
       "tensor([[ 0,  1,  2,  3],\n",
       "        [ 4,  5,  6,  7],\n",
       "        [ 8,  9, 10, 11],\n",
       "        [12, 13, 14, 15]])"
      ]
     },
     "execution_count": 17,
     "metadata": {},
     "output_type": "execute_result"
    }
   ],
   "source": [
    "grids = torch.arange(0, 16).long().view(4, 4)\n",
    "grids"
   ]
  },
  {
   "cell_type": "code",
   "execution_count": 24,
   "metadata": {},
   "outputs": [
    {
     "data": {
      "text/plain": [
       "tensor([-0.7500, -0.2500,  0.2500,  0.7500])"
      ]
     },
     "execution_count": 24,
     "metadata": {},
     "output_type": "execute_result"
    }
   ],
   "source": [
    "W = 4\n",
    "torch.linspace(-1+1/W, 1-1/W, W)"
   ]
  },
  {
   "cell_type": "code",
   "execution_count": 42,
   "metadata": {},
   "outputs": [],
   "source": [
    "grid.expand_as??"
   ]
  },
  {
   "cell_type": "code",
   "execution_count": 38,
   "metadata": {},
   "outputs": [
    {
     "data": {
      "text/plain": [
       "tensor([[ 1,  2,  3,  4],\n",
       "        [ 2,  4,  6,  8],\n",
       "        [ 3,  6,  9, 12],\n",
       "        [ 4,  8, 12, 16]])"
      ]
     },
     "execution_count": 38,
     "metadata": {},
     "output_type": "execute_result"
    }
   ],
   "source": [
    "grid = FloatTensor(4, 4, 2)\n",
    "v1 = torch.arange(1, 5)\n",
    "v2 = torch.arange(1, 5)\n",
    "#torch.ger(v1, v2).expand_as(grid[:, :, 0])\n",
    "torch.ger(v1, v2)"
   ]
  },
  {
   "cell_type": "markdown",
   "metadata": {},
   "source": [
    "#### 1b. Visualize Simple (Square) Encore Boxes"
   ]
  },
  {
   "cell_type": "code",
   "execution_count": 46,
   "metadata": {},
   "outputs": [],
   "source": [
    "def create_grid(size):\n",
    "    \"\"\" \n",
    "    tensor of grid center expressed in \n",
    "    grid.shape = (# GRID, 2) \n",
    "    -1: top/ left, +1: bottom/ right\n",
    "    \"\"\"\n",
    "    H, W = size if isinstance(size, tuple) else (size,size)\n",
    "    grid = FloatTensor(H, W, 2)\n",
    "    linear_points = torch.linspace(-1+1/W, 1-1/W, W) if W > 1 else tensor([0.])\n",
    "    grid[:, :, 1] = torch.ger(torch.ones(H), linear_points).expand_as(grid[:, :, 0])\n",
    "    linear_points = torch.linspace(-1+1/H, 1-1/H, H) if H > 1 else tensor([0.])\n",
    "    grid[:, :, 0] = torch.ger(linear_points, torch.ones(W)).expand_as(grid[:, :, 1])\n",
    "    return grid.view(-1,2)"
   ]
  },
  {
   "cell_type": "code",
   "execution_count": 50,
   "metadata": {},
   "outputs": [
    {
     "data": {
      "text/plain": [
       "tensor([[-0.5000, -0.6667],\n",
       "        [-0.5000,  0.0000],\n",
       "        [-0.5000,  0.6667],\n",
       "        [ 0.5000, -0.6667],\n",
       "        [ 0.5000,  0.0000],\n",
       "        [ 0.5000,  0.6667]])"
      ]
     },
     "execution_count": 50,
     "metadata": {},
     "output_type": "execute_result"
    }
   ],
   "source": [
    "create_grid((2, 3))"
   ]
  },
  {
   "cell_type": "code",
   "execution_count": 82,
   "metadata": {},
   "outputs": [
    {
     "data": {
      "image/png": "[encoded data removed]",
      "text/plain": [
       "<Figure size 360x360 with 1 Axes>"
      ]
     },
     "metadata": {
      "needs_background": "light"
     },
     "output_type": "display_data"
    }
   ],
   "source": [
    "fig, ax = plt.subplots(1, 1, figsize = (5, 5))\n",
    "ax.set_xticks(np.linspace(-1, 1, 4+1))\n",
    "ax.set_yticks(np.linspace(-1, 1, 4+1))\n",
    "ax.set_xlim(-1, 1)\n",
    "ax.set_ylim(1, -1)\n",
    "ax.grid()\n",
    "#ax.set_yticklabels([])\n",
    "#ax.set_xticklabels([])"
   ]
  },
  {
   "cell_type": "code",
   "execution_count": 93,
   "metadata": {},
   "outputs": [],
   "source": [
    "def show_anchors(ancs, size):\n",
    "    _,ax = plt.subplots(1,1, figsize=(8, 8))\n",
    "    ax.set_xticks(np.linspace(-1, 1, size[1]+1))\n",
    "    ax.set_yticks(np.linspace(-1, 1, size[0]+1))\n",
    "    ax.grid()\n",
    "    ax.scatter(ancs[:,1], ancs[:,0]) #y is first\n",
    "    ax.set_yticklabels([])\n",
    "    ax.set_xticklabels([])\n",
    "    ax.set_xlim(-1, 1)\n",
    "    ax.set_ylim(1, -1) #-1 is top, 1 is bottom\n",
    "    for i, (x, y) in enumerate(zip(ancs[:, 1], ancs[:, 0])): \n",
    "        ax.annotate(f'{i}: ({x},{y})', xy = (x-0.15, y-0.1))"
   ]
  },
  {
   "cell_type": "code",
   "execution_count": 94,
   "metadata": {},
   "outputs": [
    {
     "data": {
      "image/png": "[encoded data removed]",
      "text/plain": [
       "<Figure size 576x576 with 1 Axes>"
      ]
     },
     "metadata": {
      "needs_background": "light"
     },
     "output_type": "display_data"
    }
   ],
   "source": [
    "size = (4, 4)\n",
    "show_anchors(create_grid(size), size)"
   ]
  },
  {
   "cell_type": "markdown",
   "metadata": {},
   "source": [
    "#### 1c. Visualize Encore Boxes of Varying Ratios, Scales"
   ]
  },
  {
   "cell_type": "code",
   "execution_count": 110,
   "metadata": {},
   "outputs": [],
   "source": [
    "import matplotlib.cm as cmx\n",
    "import matplotlib.colors as mcolors\n",
    "from matplotlib import patches, patheffects\n",
    "from cycler import cycler"
   ]
  },
  {
   "cell_type": "code",
   "execution_count": 95,
   "metadata": {},
   "outputs": [],
   "source": [
    "def create_anchors(sizes, ratios, scales, flatten=True):\n",
    "    \"Create anchor of `sizes`, `ratios` and `scales`.\"\n",
    "    aspects = [[[s*math.sqrt(r), s*math.sqrt(1/r)] for s in scales] for r in ratios]\n",
    "    aspects = torch.tensor(aspects).view(-1,2)\n",
    "    anchors = []\n",
    "    for h,w in sizes:\n",
    "        # 4 here to have the anchors overlap.\n",
    "        sized_aspects = 4 * (aspects * torch.tensor([2/h,2/w])).unsqueeze(0)\n",
    "        base_grid = create_grid((h,w)).unsqueeze(1)\n",
    "        n,a = base_grid.size(0),aspects.size(0)\n",
    "        ancs = torch.cat([base_grid.expand(n,a,2), sized_aspects.expand(n,a,2)], 2)\n",
    "        anchors.append(ancs.view(h,w,a,4))\n",
    "    return torch.cat([anc.view(-1,4) for anc in anchors],0) if flatten else anchors"
   ]
  },
  {
   "cell_type": "code",
   "execution_count": 96,
   "metadata": {},
   "outputs": [],
   "source": [
    "ratios = [1/2,1,2]\n",
    "scales = [1,2**(-1/3), 2**(-2/3)] \n",
    "#Paper used [1,2**(1/3), 2**(2/3)] but a bigger size (600) too, so the largest feature map gave anchors that cover less of the image.\n",
    "sizes = [(2**i,2**i) for i in range(5)]\n",
    "sizes.reverse() #Predictions come in the order of the smallest feature map to the biggest\n",
    "anchors = create_anchors(sizes, ratios, scales)"
   ]
  },
  {
   "cell_type": "code",
   "execution_count": 106,
   "metadata": {},
   "outputs": [
    {
     "data": {
      "text/plain": [
       "(torch.Size([3069, 4]), 3069)"
      ]
     },
     "execution_count": 106,
     "metadata": {},
     "output_type": "execute_result"
    }
   ],
   "source": [
    "# there are 5 features map of various sizes \n",
    "# for each grid of a features map, it has 9 anchor boxes of different ratios and scales\n",
    "anchors.size(), sum([(2**i) * (2**i) * 9 for i in range(5)])"
   ]
  },
  {
   "cell_type": "code",
   "execution_count": null,
   "metadata": {},
   "outputs": [],
   "source": [
    "def get_cmap(N):\n",
    "    color_norm  = mcolors.Normalize(vmin=0, vmax=N-1)\n",
    "    return cmx.ScalarMappable(norm=color_norm, cmap='Set3').to_rgba\n",
    "\n",
    "num_color = 12\n",
    "cmap = get_cmap(num_color)\n",
    "color_list = [cmap(float(x)) for x in range(num_color)]"
   ]
  },
  {
   "cell_type": "code",
   "execution_count": 102,
   "metadata": {},
   "outputs": [],
   "source": [
    "def draw_outline(o, lw):\n",
    "    o.set_path_effects([patheffects.Stroke(\n",
    "        linewidth=lw, foreground='black'), patheffects.Normal()])\n",
    "\n",
    "def draw_rect(ax, b, color='white'):\n",
    "    patch = ax.add_patch(patches.Rectangle(b[:2], *b[-2:], fill=False, edgecolor=color, lw=2))\n",
    "    draw_outline(patch, 4)\n",
    "\n",
    "def draw_text(ax, xy, txt, sz=14, color='white'):\n",
    "    text = ax.text(*xy, txt,\n",
    "        verticalalignment='top', color=color, fontsize=sz, weight='bold')\n",
    "    draw_outline(text, 1)\n",
    "    \n",
    "def show_boxes(boxes):\n",
    "    \"Show the `boxes` (size by 4)\"\n",
    "    _, ax = plt.subplots(1,1, figsize=(5,5))\n",
    "    ax.set_xlim(-1,1)\n",
    "    ax.set_ylim(1,-1)\n",
    "    for i, bbox in enumerate(boxes):\n",
    "        bb = bbox.numpy()\n",
    "        rect = [bb[1]-bb[3]/2, bb[0]-bb[2]/2, bb[3], bb[2]]\n",
    "        draw_rect(ax, rect, color=color_list[i % num_color])\n",
    "        draw_text(ax, [bb[1]-bb[3]/2,bb[0]-bb[2]/2], str(i), color=color_list[i % num_color])"
   ]
  },
  {
   "cell_type": "code",
   "execution_count": 111,
   "metadata": {},
   "outputs": [
    {
     "data": {
      "image/png": "[encoded data removed]",
      "text/plain": [
       "<Figure size 360x360 with 1 Axes>"
      ]
     },
     "metadata": {
      "needs_background": "light"
     },
     "output_type": "display_data"
    }
   ],
   "source": [
    "show_boxes(anchors[900:909])"
   ]
  },
  {
   "cell_type": "markdown",
   "metadata": {},
   "source": [
    "#### 2. Recovering Predicted BBoxes from Model Output\n",
    "regression subnet output 4 floating points for a predicted bboxes: [p_y, p_x, p_h, p_w]. predicted bboxes can be recovered by:  \n",
    "- center = [p_y * anc_h + anc_y, p_x * anc_w + anc_x]  \n",
    "- height = anc_h * exp(p_h)  \n",
    "- weight = anc_w * exp(p_w)  \n",
    "\n",
    "if [p_y, p_x, p_h, p_w], predicted bbox is exactly the same as the outstanding anchor box."
   ]
  },
  {
   "cell_type": "code",
   "execution_count": 137,
   "metadata": {},
   "outputs": [],
   "source": [
    "def activ_to_bbox(acts, anchors, flatten = True):\n",
    "    \"\"\"\n",
    "    from offset params to [center x, center y, width, height] \n",
    "    \"\"\"\n",
    "    if flatten:\n",
    "        # why there is a scaling on activation??\n",
    "        acts.mul_(acts.new_tensor([[0.1, 0.1, 0.2, 0.2]]))\n",
    "        centers = anchors[..., 2:] * acts[..., :2] + anchors[..., :2]\n",
    "        sizes = anchors[..., 2:] * torch.exp(acts[..., :2])\n",
    "        return torch.cat([centers, sizes], -1)\n",
    "    else: return [activ_to_bbox(act,anc) for act,anc in zip(acts, anchors)]\n",
    "    return res"
   ]
  },
  {
   "cell_type": "code",
   "execution_count": 144,
   "metadata": {},
   "outputs": [
    {
     "data": {
      "text/plain": [
       "tensor([[-0.6667, -0.7500,  0.6667,  0.5000],\n",
       "        [-0.6667, -0.2500,  0.6667,  0.5000],\n",
       "        [-0.6667,  0.2500,  0.6667,  0.5000],\n",
       "        [-0.6667,  0.7500,  0.6667,  0.5000],\n",
       "        [ 0.0000, -0.7500,  0.6667,  0.5000],\n",
       "        [ 0.0000, -0.2500,  0.6667,  0.5000],\n",
       "        [ 0.0000,  0.2500,  0.6667,  0.5000],\n",
       "        [ 0.0000,  0.7500,  0.6667,  0.5000],\n",
       "        [ 0.6667, -0.7500,  0.6667,  0.5000],\n",
       "        [ 0.6667, -0.2500,  0.6667,  0.5000],\n",
       "        [ 0.6667,  0.2500,  0.6667,  0.5000],\n",
       "        [ 0.6667,  0.7500,  0.6667,  0.5000]])"
      ]
     },
     "execution_count": 144,
     "metadata": {},
     "output_type": "execute_result"
    }
   ],
   "source": [
    "size=(3, 4)\n",
    "anchors = create_grid(size)\n",
    "anchors = torch.cat([anchors, torch.tensor([2/size[0],2/size[1]]).expand_as(anchors)], 1)\n",
    "anchors"
   ]
  },
  {
   "cell_type": "code",
   "execution_count": 145,
   "metadata": {},
   "outputs": [
    {
     "data": {
      "text/plain": [
       "tensor([[-0.6608, -0.7466,  0.6725,  0.5034],\n",
       "        [-0.6531, -0.2489,  0.6803,  0.5011],\n",
       "        [-0.6604,  0.2502,  0.6730,  0.5002],\n",
       "        [-0.6770,  0.7451,  0.6564,  0.4951],\n",
       "        [-0.0025, -0.7558,  0.6642,  0.4943],\n",
       "        [ 0.0027, -0.2487,  0.6694,  0.5013],\n",
       "        [ 0.0021,  0.2505,  0.6688,  0.5005],\n",
       "        [ 0.0019,  0.7447,  0.6686,  0.4947],\n",
       "        [ 0.6634, -0.7478,  0.6634,  0.5022],\n",
       "        [ 0.6692, -0.2537,  0.6692,  0.4963],\n",
       "        [ 0.6638,  0.2466,  0.6638,  0.4966],\n",
       "        [ 0.6688,  0.7422,  0.6688,  0.4923]])"
      ]
     },
     "execution_count": 145,
     "metadata": {},
     "output_type": "execute_result"
    }
   ],
   "source": [
    "activations = torch.randn(size[0] * size[1], 4) * 0.1\n",
    "bboxes = activ_to_bbox(activations, anchors)\n",
    "bboxes"
   ]
  },
  {
   "cell_type": "code",
   "execution_count": 146,
   "metadata": {},
   "outputs": [],
   "source": [
    "def cthw2tlbr(boxes):\n",
    "    \"Convert center/size format `boxes` to top/left bottom/right corners.\"\n",
    "    top_left = boxes[:,:2] - boxes[:,2:]/2\n",
    "    bot_right = boxes[:,:2] + boxes[:,2:]/2\n",
    "    return torch.cat([top_left, bot_right], 1)"
   ]
  },
  {
   "cell_type": "code",
   "execution_count": 149,
   "metadata": {},
   "outputs": [
    {
     "data": {
      "text/plain": [
       "tensor([[-9.9710e-01, -9.9831e-01, -3.2459e-01, -4.9489e-01],\n",
       "        [-9.9330e-01, -4.9944e-01, -3.1295e-01,  1.6895e-03],\n",
       "        [-9.9687e-01,  8.2582e-05, -3.2390e-01,  5.0025e-01],\n",
       "        [-1.0052e+00,  4.9753e-01, -3.4878e-01,  9.9263e-01],\n",
       "        [-3.3456e-01, -1.0029e+00,  3.2965e-01, -5.0864e-01],\n",
       "        [-3.3197e-01, -4.9935e-01,  3.3744e-01,  1.9658e-03],\n",
       "        [-3.3228e-01,  2.3323e-04,  3.3649e-01,  5.0070e-01],\n",
       "        [-3.3239e-01,  4.9732e-01,  3.3616e-01,  9.9201e-01],\n",
       "        [ 3.3172e-01, -9.9891e-01,  9.9516e-01, -4.9671e-01],\n",
       "        [ 3.3461e-01, -5.0188e-01,  1.0038e+00, -5.6102e-03],\n",
       "        [ 3.3192e-01, -1.7260e-03,  9.9576e-01,  4.9485e-01],\n",
       "        [ 3.3439e-01,  4.9607e-01,  1.0032e+00,  9.8833e-01]])"
      ]
     },
     "execution_count": 149,
     "metadata": {},
     "output_type": "execute_result"
    }
   ],
   "source": [
    "tlbr_bboxes = cthw2tlbr(bboxes)\n",
    "tlbr_bboxes"
   ]
  },
  {
   "cell_type": "markdown",
   "metadata": {},
   "source": [
    "#### 3. More about RetinaNet Modules"
   ]
  },
  {
   "cell_type": "code",
   "execution_count": 117,
   "metadata": {},
   "outputs": [],
   "source": [
    "model = get_retinanet()"
   ]
  },
  {
   "cell_type": "markdown",
   "metadata": {},
   "source": [
    "#### 3a. Classification Subnet\n",
    "- classification subnet of fastai's RetinaNet doesn't include sigmoid activation function at the end.\n",
    "- final number of filters is 9 because we have one class (wheat) and 9 different anchor boxes per grid (i.e. 1*9 = 9). Note that unlike YOLO and SSD, background doesn't include as a class so we only have 1 class in this case."
   ]
  },
  {
   "cell_type": "code",
   "execution_count": 115,
   "metadata": {},
   "outputs": [
    {
     "data": {
      "text/plain": [
       "Sequential(\n",
       "  (0): ConvLayer(\n",
       "    (0): Conv2d(256, 256, kernel_size=(3, 3), stride=(1, 1), padding=(1, 1))\n",
       "    (1): ReLU()\n",
       "  )\n",
       "  (1): ConvLayer(\n",
       "    (0): Conv2d(256, 256, kernel_size=(3, 3), stride=(1, 1), padding=(1, 1))\n",
       "    (1): ReLU()\n",
       "  )\n",
       "  (2): ConvLayer(\n",
       "    (0): Conv2d(256, 256, kernel_size=(3, 3), stride=(1, 1), padding=(1, 1))\n",
       "    (1): ReLU()\n",
       "  )\n",
       "  (3): ConvLayer(\n",
       "    (0): Conv2d(256, 256, kernel_size=(3, 3), stride=(1, 1), padding=(1, 1))\n",
       "    (1): ReLU()\n",
       "  )\n",
       "  (4): Conv2d(256, 9, kernel_size=(3, 3), stride=(1, 1), padding=(1, 1))\n",
       ")"
      ]
     },
     "execution_count": 115,
     "metadata": {},
     "output_type": "execute_result"
    }
   ],
   "source": [
    "model.classifier"
   ]
  },
  {
   "cell_type": "markdown",
   "metadata": {},
   "source": [
    "##### 3b. Box Regression Subnet\n",
    "- Final number of filters are 36 because we have 4 floating outputs for a bounding box, and 9 anchor boxes per grid (i.e. 4*9 = 36)."
   ]
  },
  {
   "cell_type": "code",
   "execution_count": 116,
   "metadata": {},
   "outputs": [
    {
     "data": {
      "text/plain": [
       "Sequential(\n",
       "  (0): ConvLayer(\n",
       "    (0): Conv2d(256, 256, kernel_size=(3, 3), stride=(1, 1), padding=(1, 1))\n",
       "    (1): ReLU()\n",
       "  )\n",
       "  (1): ConvLayer(\n",
       "    (0): Conv2d(256, 256, kernel_size=(3, 3), stride=(1, 1), padding=(1, 1))\n",
       "    (1): ReLU()\n",
       "  )\n",
       "  (2): ConvLayer(\n",
       "    (0): Conv2d(256, 256, kernel_size=(3, 3), stride=(1, 1), padding=(1, 1))\n",
       "    (1): ReLU()\n",
       "  )\n",
       "  (3): ConvLayer(\n",
       "    (0): Conv2d(256, 256, kernel_size=(3, 3), stride=(1, 1), padding=(1, 1))\n",
       "    (1): ReLU()\n",
       "  )\n",
       "  (4): Conv2d(256, 36, kernel_size=(3, 3), stride=(1, 1), padding=(1, 1))\n",
       ")"
      ]
     },
     "execution_count": 116,
     "metadata": {},
     "output_type": "execute_result"
    }
   ],
   "source": [
    "model.box_regressor"
   ]
  },
  {
   "cell_type": "markdown",
   "metadata": {},
   "source": [
    "#### 3xxx. Try to Visualize LateralUpsampleMerge\n",
    "visualize how two features 1d map adding together"
   ]
  },
  {
   "cell_type": "code",
   "execution_count": null,
   "metadata": {},
   "outputs": [],
   "source": []
  },
  {
   "cell_type": "markdown",
   "metadata": {},
   "source": [
    "#### 3c. Overall Model Hierarchy"
   ]
  },
  {
   "cell_type": "code",
   "execution_count": 132,
   "metadata": {},
   "outputs": [
    {
     "name": "stdout",
     "output_type": "stream",
     "text": [
      "0: encoder (8)\n",
      "1: c5top5 (0)\n",
      "2: c5top6 (0)\n",
      "3: p6top7 (2)\n",
      "4: merges (0)\n",
      "5: smoothers (0)\n",
      "6: classifier (5)\n",
      "7: box_regressor (5)\n"
     ]
    }
   ],
   "source": [
    "for idx, (name, m) in enumerate(model.named_children()):\n",
    "    l = len(m) if isinstance(m, nn.Sequential) else 0\n",
    "    print(f'{idx}: {name} ({l})')"
   ]
  },
  {
   "cell_type": "markdown",
   "metadata": {},
   "source": [
    "#### 4. Process RetinaNet Outputs"
   ]
  },
  {
   "cell_type": "code",
   "execution_count": null,
   "metadata": {},
   "outputs": [],
   "source": []
  }
 ],
 "metadata": {
  "kernelspec": {
   "display_name": "Python 3",
   "language": "python",
   "name": "python3"
  },
  "language_info": {
   "codemirror_mode": {
    "name": "ipython",
    "version": 3
   },
   "file_extension": ".py",
   "mimetype": "text/x-python",
   "name": "python",
   "nbconvert_exporter": "python",
   "pygments_lexer": "ipython3",
   "version": "3.7.7"
  }
 },
 "nbformat": 4,
 "nbformat_minor": 4
}

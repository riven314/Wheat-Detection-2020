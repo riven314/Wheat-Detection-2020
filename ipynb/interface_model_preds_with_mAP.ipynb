{
 "cells": [
  {
   "cell_type": "markdown",
   "metadata": {},
   "source": [
    "### NOTES\n",
    "1. need to filter out overlapping predicted bboxs before mAP metrics evaluation??\n",
    "    - YES! you need to do NMS to remove highly overlapping bboxs (see ```show_preds``` near ```process_output``` from fastai notebook [pascal.ipynb](https://github.com/fastai/course-v3/blob/master/nbs/dl2/pascal.ipynb))\n",
    "    - In summary the following procedures are needed: \n",
    "        - (i) process_output on predictions (for each sample) -- ```process_output```\n",
    "        - (ii) NMS on predicted bbox and scores -- ```nms```\n",
    "        - (iii) bbox from CTHW to TLBR format\n",
    "2. Following up on above, why ```unpad``` is not used (on target bbox and labels)??\n",
    "3. CTHW really refer H to Height, W to Width? (Why not CTWH)\n",
    "    - YES! CT = (y, x), HW = (height, width)\n",
    "4. TLBR is [x0, y0, x1, y1] OR [y0, x0, y1, x1]??\n",
    "    - [y0, x0, y1, x1]!! Top-Left-Bottom-Right\n",
    "5. TensorBBox after DataLoaders is in [x0, y0, x1, y1] OR [y0, x0, y1, x1]??\n",
    "    - it depends on the bbox format before transformation done by BBoxBlock, since my bbox output from ```get_annotations```, its bbox format is in [x0, y0, x1, y1]\n",
    "6. After ```unpad```, tgt_class is decremented by 1\n",
    "\n",
    "### Reference\n",
    "1. [RetinaNet demo -- pascal.ipynb](https://github.com/fastai/course-v3/blob/master/nbs/dl2/pascal.ipynb)"
   ]
  },
  {
   "cell_type": "code",
   "execution_count": 1,
   "metadata": {},
   "outputs": [],
   "source": [
    "import os\n",
    "import sys\n",
    "path = os.path.join(os.getcwd(), '..')\n",
    "sys.path.append(path)\n",
    "\n",
    "from pathlib import Path\n",
    "from pdb import set_trace\n",
    "import warnings\n",
    "warnings.filterwarnings('ignore')\n",
    "\n",
    "from fastai2.vision.all import *\n",
    "\n",
    "from src.data.dblock import build_dblock\n",
    "from src.data.dls import build_dataloaders\n",
    "from src.model.model import get_retinanet, split_param_groups\n",
    "from src.metrics.loss import get_retinanet_loss\n",
    "from src.metrics.mAP import mAP\n",
    "\n",
    "%load_ext autoreload\n",
    "%autoreload 2"
   ]
  },
  {
   "cell_type": "markdown",
   "metadata": {},
   "source": [
    "### 0. Setup Learner"
   ]
  },
  {
   "cell_type": "code",
   "execution_count": 3,
   "metadata": {},
   "outputs": [
    {
     "data": {
      "text/plain": [
       "(96, 24)"
      ]
     },
     "execution_count": 3,
     "metadata": {},
     "output_type": "execute_result"
    }
   ],
   "source": [
    "data_path = Path('/userhome/34/h3509807/wheat-data')\n",
    "model_path = Path('/userhome/34/h3509807/Wheat-Detection-2020')\n",
    "\n",
    "dls = build_dataloaders(data_path, bs = 8, \n",
    "                        resize_sz = 256, norm = True, \n",
    "                        rand_seed = 144, test_mode = True)\n",
    "\n",
    "len(dls.train.items), len(dls.valid.items)"
   ]
  },
  {
   "cell_type": "code",
   "execution_count": 4,
   "metadata": {},
   "outputs": [],
   "source": [
    "model = get_retinanet()\n",
    "retinanet_loss = get_retinanet_loss(ratios = None, scales = None)\n",
    "learn = Learner(dls, model, path = model_path,\n",
    "                loss_func = retinanet_loss,\n",
    "                splitter = split_param_groups)"
   ]
  },
  {
   "cell_type": "code",
   "execution_count": null,
   "metadata": {},
   "outputs": [],
   "source": [
    "learn.load('final_retinanet_learner')"
   ]
  },
  {
   "cell_type": "markdown",
   "metadata": {},
   "source": [
    "### 1. Get Model Prediction"
   ]
  },
  {
   "cell_type": "code",
   "execution_count": 7,
   "metadata": {},
   "outputs": [],
   "source": [
    "b = learn.dls.one_batch()\n",
    "\n",
    "learn.model.eval()\n",
    "with torch.no_grad():\n",
    "    preds = learn.model(b[0])"
   ]
  },
  {
   "cell_type": "markdown",
   "metadata": {},
   "source": [
    "### 2. Interface Prediction with mAP Metrics"
   ]
  },
  {
   "cell_type": "code",
   "execution_count": 24,
   "metadata": {},
   "outputs": [],
   "source": [
    "from src.metrics.utils import create_anchors, activ_to_bbox\n",
    "from src.metrics.utils import tlbr2cthw, cthw2tlbr"
   ]
  },
  {
   "cell_type": "code",
   "execution_count": 25,
   "metadata": {},
   "outputs": [],
   "source": [
    "def test_process_output(output, i, detect_thresh=0.25):\n",
    "    \"\"\" \n",
    "    Process `output[i]` and return the predicted bboxes above `detect_thresh`.\n",
    "    \n",
    "    :return:\n",
    "        bbox_pred : bbox in normalized cthw format\n",
    "        scores : confidence score after filtering\n",
    "        preds : class index for a predicted bbox\n",
    "    \"\"\"\n",
    "    clas_pred,bbox_pred,sizes = output[0][i], output[1][i], output[2]\n",
    "    \n",
    "    scales = [1, 2**(-1/3), 2**(-2/3)]\n",
    "    ratios = [1/2, 1, 2]\n",
    "    anchors = create_anchors(sizes, ratios, scales).to(clas_pred.device)\n",
    "    \n",
    "    bbox_pred = activ_to_bbox(bbox_pred, anchors)\n",
    "    clas_pred = torch.sigmoid(clas_pred)\n",
    "    \n",
    "    # argmax --> sigmoid(.) --> apply threshold\n",
    "    detect_mask = clas_pred.max(1)[0] > detect_thresh\n",
    "    bbox_pred, clas_pred = bbox_pred[detect_mask], clas_pred[detect_mask]\n",
    "    \n",
    "    # still expressed in cthw \n",
    "    bbox_pred = tlbr2cthw(torch.clamp(cthw2tlbr(bbox_pred), min=-1, max=1))    \n",
    "    scores, preds = clas_pred.max(1)\n",
    "    return bbox_pred, scores, preds"
   ]
  },
  {
   "cell_type": "markdown",
   "metadata": {},
   "source": [
    "### 2a. From BBox Offset (bbox_pred) to BBox CTHW (p_bbox_pred)\n",
    "- bbox_pred is in batch\n",
    "- p_bbox_pred is in one sample"
   ]
  },
  {
   "cell_type": "code",
   "execution_count": 26,
   "metadata": {},
   "outputs": [
    {
     "data": {
      "text/plain": [
       "(torch.Size([8, 46836, 4]),\n",
       " tensor([[ 0.3300,  0.3040, -0.6704, -1.0501],\n",
       "         [ 0.4119,  0.2938, -0.4941, -1.0316],\n",
       "         [ 0.3273,  0.3304, -0.3778, -0.9814]], device='cuda:0'))"
      ]
     },
     "execution_count": 26,
     "metadata": {},
     "output_type": "execute_result"
    }
   ],
   "source": [
    "clas_pred, bbox_pred, sizes = preds\n",
    "\n",
    "bbox_pred.shape, bbox_pred[0, :3]"
   ]
  },
  {
   "cell_type": "code",
   "execution_count": 27,
   "metadata": {},
   "outputs": [
    {
     "data": {
      "text/plain": [
       "torch.Size([46456, 4])"
      ]
     },
     "execution_count": 27,
     "metadata": {},
     "output_type": "execute_result"
    }
   ],
   "source": [
    "p_bbox_pred, p_scores, p_preds = test_process_output(preds, 0, detect_thresh = 0.5)\n",
    "p_bbox_pred.shape"
   ]
  },
  {
   "cell_type": "code",
   "execution_count": 28,
   "metadata": {},
   "outputs": [
    {
     "data": {
      "text/plain": [
       "tensor([[-0.9358, -0.8879,  0.1284,  0.2242],\n",
       "        [-0.9449, -0.9080,  0.1101,  0.1840],\n",
       "        [-0.9538, -0.9231,  0.0924,  0.1537]], device='cuda:0')"
      ]
     },
     "execution_count": 28,
     "metadata": {},
     "output_type": "execute_result"
    }
   ],
   "source": [
    "p_bbox_pred[:3]"
   ]
  },
  {
   "cell_type": "markdown",
   "metadata": {},
   "source": [
    "### 2b. Rescale BBox CTHW (p_bbox_pred) to BBox TLBR (tlbr_bbox_pred)\n",
    "- both p_bbox_pred, tlbr_bbox_pred is in one sample"
   ]
  },
  {
   "cell_type": "code",
   "execution_count": 33,
   "metadata": {},
   "outputs": [],
   "source": [
    "from src.metrics.utils import cthw2tlbr"
   ]
  },
  {
   "cell_type": "code",
   "execution_count": 38,
   "metadata": {},
   "outputs": [
    {
     "data": {
      "text/plain": [
       "tensor([[-0.2500, -0.2500,  0.2500,  0.2500]])"
      ]
     },
     "execution_count": 38,
     "metadata": {},
     "output_type": "execute_result"
    }
   ],
   "source": [
    "test_cthw_bbox = torch.as_tensor([[-0., -0., 0.5, 0.5]])\n",
    "cthw2tlbr(test_cthw_bbox)"
   ]
  },
  {
   "cell_type": "code",
   "execution_count": 40,
   "metadata": {},
   "outputs": [
    {
     "data": {
      "text/plain": [
       "(torch.Size([46456, 4]),\n",
       " tensor([[-1.0000, -1.0000, -0.8716, -0.7758],\n",
       "         [-1.0000, -1.0000, -0.8899, -0.8160],\n",
       "         [-1.0000, -1.0000, -0.9076, -0.8463]], device='cuda:0'))"
      ]
     },
     "execution_count": 40,
     "metadata": {},
     "output_type": "execute_result"
    }
   ],
   "source": [
    "tlbr_bbox_pred = cthw2tlbr(p_bbox_pred)\n",
    "tlbr_bbox_pred.shape, tlbr_bbox_pred[:3]"
   ]
  },
  {
   "cell_type": "markdown",
   "metadata": {},
   "source": [
    "### 2c. BBox TLBR (tlbr_bbox_pred) to BBox Orig Scale"
   ]
  },
  {
   "cell_type": "code",
   "execution_count": 41,
   "metadata": {},
   "outputs": [],
   "source": [
    "from src.metrics.utils import decode_bboxs"
   ]
  },
  {
   "cell_type": "code",
   "execution_count": 45,
   "metadata": {},
   "outputs": [],
   "source": [
    "scaled_bbox_pred = decode_bboxs(tlbr_bbox_pred, img_size = 256)"
   ]
  },
  {
   "cell_type": "code",
   "execution_count": 46,
   "metadata": {},
   "outputs": [
    {
     "data": {
      "text/plain": [
       "(torch.Size([46456, 4]),\n",
       " tensor([[ 0.0000,  0.0000, 16.4398, 28.7014],\n",
       "         [ 0.0000,  0.0000, 14.0971, 23.5503],\n",
       "         [ 0.0000,  0.0000, 11.8308, 19.6754]], device='cuda:0'))"
      ]
     },
     "execution_count": 46,
     "metadata": {},
     "output_type": "execute_result"
    }
   ],
   "source": [
    "scaled_bbox_pred.shape, scaled_bbox_pred[:3]"
   ]
  },
  {
   "cell_type": "markdown",
   "metadata": {},
   "source": [
    "### 3. Distribution of Confidence Scores"
   ]
  },
  {
   "cell_type": "code",
   "execution_count": 63,
   "metadata": {},
   "outputs": [
    {
     "data": {
      "image/png": "[encoded data removed]",
      "text/plain": [
       "<Figure size 576x360 with 1 Axes>"
      ]
     },
     "metadata": {
      "needs_background": "light"
     },
     "output_type": "display_data"
    }
   ],
   "source": [
    "fig, ax = plt.subplots(1, figsize = (8, 5))\n",
    "\n",
    "hist_data = p_scores.flatten().cpu().numpy()\n",
    "ax.hist(hist_data, bins = 20)\n",
    "ax.set_title('Histogram of Confidence Score');"
   ]
  },
  {
   "cell_type": "markdown",
   "metadata": {},
   "source": [
    "### 4. Predicted Labels v.s. Target Labels"
   ]
  },
  {
   "cell_type": "code",
   "execution_count": 95,
   "metadata": {},
   "outputs": [
    {
     "data": {
      "text/plain": [
       "tensor([0, 0, 0,  ..., 0, 0, 0], device='cuda:0')"
      ]
     },
     "execution_count": 95,
     "metadata": {},
     "output_type": "execute_result"
    }
   ],
   "source": [
    "p_preds"
   ]
  },
  {
   "cell_type": "code",
   "execution_count": 96,
   "metadata": {},
   "outputs": [
    {
     "data": {
      "text/plain": [
       "tensor([1, 1, 1, 1, 1, 1, 1, 1, 1, 1, 1, 1, 1, 1, 1, 1, 1, 1, 1, 1, 1, 1, 1, 1,\n",
       "        1, 1, 1, 1, 1, 1, 1, 1, 1, 1, 1, 1, 1, 1, 0, 0], device='cuda:0')"
      ]
     },
     "execution_count": 96,
     "metadata": {},
     "output_type": "execute_result"
    }
   ],
   "source": [
    "tgt_bbox, tgt_clas = b[1][3], b[2][3]\n",
    "tgt_clas"
   ]
  },
  {
   "cell_type": "markdown",
   "metadata": {},
   "source": [
    "### 4. Post-Processing on Target BBox and Target Labels"
   ]
  },
  {
   "cell_type": "code",
   "execution_count": 92,
   "metadata": {},
   "outputs": [],
   "source": [
    "def unpad(tgt_bbox, tgt_clas, pad_idx=0):\n",
    "    \"\"\"\n",
    "    changes:\n",
    "    - all class labels decremented by 1 (padding label = -1)\n",
    "    - bbox change from TLBR to CTHW format\n",
    "    class labels for padding = -1\n",
    "    \"\"\"\n",
    "    i = torch.min(torch.nonzero(tgt_clas-pad_idx))\n",
    "    return tlbr2cthw(tgt_bbox[i:]), tgt_clas[i:]-1+pad_idx"
   ]
  },
  {
   "cell_type": "code",
   "execution_count": 90,
   "metadata": {},
   "outputs": [
    {
     "data": {
      "text/plain": [
       "(torch.Size([40]),\n",
       " torch.Size([40, 4]),\n",
       " tensor([1, 1, 1, 1, 1, 1, 1, 1, 1, 1, 1, 1, 1, 1, 1, 1, 1, 1, 1, 1, 1, 1, 1, 1,\n",
       "         1, 1, 1, 1, 1, 1, 1, 1, 1, 1, 1, 1, 1, 1, 0, 0], device='cuda:0'),\n",
       " tensor([[-1.0000, -0.3242, -0.7871, -0.1328],\n",
       "         [-0.5391,  0.8613, -0.3457,  1.0000],\n",
       "         [-0.3047, -0.5098, -0.1367, -0.2441]], device='cuda:0'))"
      ]
     },
     "execution_count": 90,
     "metadata": {},
     "output_type": "execute_result"
    }
   ],
   "source": [
    "tgt_bbox, tgt_clas = b[1][3], b[2][3]\n",
    "\n",
    "# target class labels from one sample\n",
    "tgt_clas.shape, tgt_bbox.shape, tgt_clas, tgt_bbox[:3]"
   ]
  },
  {
   "cell_type": "code",
   "execution_count": 91,
   "metadata": {},
   "outputs": [
    {
     "data": {
      "text/plain": [
       "(torch.Size([40]),\n",
       " torch.Size([40, 4]),\n",
       " tensor([ 0,  0,  0,  0,  0,  0,  0,  0,  0,  0,  0,  0,  0,  0,  0,  0,  0,  0,\n",
       "          0,  0,  0,  0,  0,  0,  0,  0,  0,  0,  0,  0,  0,  0,  0,  0,  0,  0,\n",
       "          0,  0, -1, -1], device='cuda:0'),\n",
       " tensor([[-0.8936, -0.2285,  0.2129,  0.1914],\n",
       "         [-0.4424,  0.9307,  0.1934,  0.1387],\n",
       "         [-0.2207, -0.3770,  0.1680,  0.2656]], device='cuda:0'))"
      ]
     },
     "execution_count": 91,
     "metadata": {},
     "output_type": "execute_result"
    }
   ],
   "source": [
    "unpad_tgt_bbox, unpad_tgt_clas = unpad(tgt_bbox, tgt_clas, pad_idx = 0)\n",
    "\n",
    "unpad_tgt_clas.shape, unpad_tgt_bbox.shape, unpad_tgt_clas, unpad_tgt_bbox[:3]"
   ]
  },
  {
   "cell_type": "code",
   "execution_count": 80,
   "metadata": {},
   "outputs": [
    {
     "data": {
      "text/plain": [
       "tensor([0, 0, 0, 0, 0, 0, 0, 0, 0, 0, 0, 0, 0, 0, 0, 0, 0, 0, 0, 0, 0, 0, 0, 0,\n",
       "        0, 0, 0, 0, 0, 0, 0, 0, 0, 0, 0, 0, 0, 0, 0, 0], device='cuda:0')"
      ]
     },
     "execution_count": 80,
     "metadata": {},
     "output_type": "execute_result"
    }
   ],
   "source": [
    "unpad_tgt_clas"
   ]
  },
  {
   "cell_type": "code",
   "execution_count": 79,
   "metadata": {},
   "outputs": [
    {
     "data": {
      "text/plain": [
       "(torch.Size([40]), torch.Size([40]))"
      ]
     },
     "execution_count": 79,
     "metadata": {},
     "output_type": "execute_result"
    }
   ],
   "source": [
    "tgt_clas.shape, unpad_tgt_clas.shape"
   ]
  },
  {
   "cell_type": "markdown",
   "metadata": {},
   "source": [
    "### 5. Sort scaled_bbox_pred in Descending Order of Scores"
   ]
  },
  {
   "cell_type": "code",
   "execution_count": 53,
   "metadata": {},
   "outputs": [
    {
     "data": {
      "text/plain": [
       "(torch.Size([8, 46836, 1]), torch.Size([46456]))"
      ]
     },
     "execution_count": 53,
     "metadata": {},
     "output_type": "execute_result"
    }
   ],
   "source": [
    "clas_pred.shape, p_scores.shape"
   ]
  },
  {
   "cell_type": "code",
   "execution_count": 50,
   "metadata": {},
   "outputs": [
    {
     "data": {
      "text/plain": [
       "tensor([0.7086, 0.8301, 0.9394,  ..., 0.7744, 0.7749, 0.5193], device='cuda:0')"
      ]
     },
     "execution_count": 50,
     "metadata": {},
     "output_type": "execute_result"
    }
   ],
   "source": [
    "p_scores"
   ]
  },
  {
   "cell_type": "code",
   "execution_count": 100,
   "metadata": {},
   "outputs": [
    {
     "data": {
      "text/plain": [
       "tensor([1.0000, 1.0000, 1.0000,  ..., 0.5032, 0.5029, 0.5020], device='cuda:0')"
      ]
     },
     "execution_count": 100,
     "metadata": {},
     "output_type": "execute_result"
    }
   ],
   "source": [
    "idxs = torch.argsort(p_scores, dim = -1, descending = True)\n",
    "p_scores[idxs]"
   ]
  },
  {
   "cell_type": "code",
   "execution_count": 101,
   "metadata": {},
   "outputs": [
    {
     "data": {
      "text/plain": [
       "tensor([[-0.9501, -0.9500,  0.0999,  0.1000],\n",
       "        [-0.8591, -0.9520,  0.1771,  0.0895],\n",
       "        [-0.8921, -0.9519,  0.1753,  0.0896],\n",
       "        ...,\n",
       "        [-0.9590,  0.5784,  0.0821,  0.0560],\n",
       "        [-0.1472,  0.1293,  1.3922,  0.7115],\n",
       "        [-0.3592,  0.9627,  0.0559,  0.0746]], device='cuda:0')"
      ]
     },
     "execution_count": 101,
     "metadata": {},
     "output_type": "execute_result"
    }
   ],
   "source": [
    "p_bbox_pred[idxs]"
   ]
  },
  {
   "cell_type": "code",
   "execution_count": 102,
   "metadata": {},
   "outputs": [
    {
     "data": {
      "text/plain": [
       "tensor([0, 0, 0,  ..., 0, 0, 0], device='cuda:0')"
      ]
     },
     "execution_count": 102,
     "metadata": {},
     "output_type": "execute_result"
    }
   ],
   "source": [
    "p_preds[idxs]"
   ]
  },
  {
   "cell_type": "code",
   "execution_count": null,
   "metadata": {},
   "outputs": [],
   "source": []
  }
 ],
 "metadata": {
  "kernelspec": {
   "display_name": "Python 3",
   "language": "python",
   "name": "python3"
  },
  "language_info": {
   "codemirror_mode": {
    "name": "ipython",
    "version": 3
   },
   "file_extension": ".py",
   "mimetype": "text/x-python",
   "name": "python",
   "nbconvert_exporter": "python",
   "pygments_lexer": "ipython3",
   "version": "3.7.7"
  }
 },
 "nbformat": 4,
 "nbformat_minor": 4
}

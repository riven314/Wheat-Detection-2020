{
 "cells": [
  {
   "cell_type": "code",
   "execution_count": 1,
   "metadata": {},
   "outputs": [],
   "source": [
    "from fastai2.vision.all import *\n",
    "\n",
    "%load_ext autoreload\n",
    "%autoreload 2"
   ]
  },
  {
   "cell_type": "code",
   "execution_count": 2,
   "metadata": {},
   "outputs": [
    {
     "data": {
      "text/plain": [
       "(#8) [Path('/userhome/34/h3509807/.fastai/data/pascal_2007/test.json'),Path('/userhome/34/h3509807/.fastai/data/pascal_2007/train'),Path('/userhome/34/h3509807/.fastai/data/pascal_2007/valid.json'),Path('/userhome/34/h3509807/.fastai/data/pascal_2007/test.csv'),Path('/userhome/34/h3509807/.fastai/data/pascal_2007/test'),Path('/userhome/34/h3509807/.fastai/data/pascal_2007/train.csv'),Path('/userhome/34/h3509807/.fastai/data/pascal_2007/segmentation'),Path('/userhome/34/h3509807/.fastai/data/pascal_2007/train.json')]"
      ]
     },
     "execution_count": 2,
     "metadata": {},
     "output_type": "execute_result"
    }
   ],
   "source": [
    "path = untar_data(URLs.PASCAL_2007)\n",
    "path.ls()"
   ]
  },
  {
   "cell_type": "code",
   "execution_count": 3,
   "metadata": {},
   "outputs": [],
   "source": [
    "imgs, lbl_bbox = get_annotations(path/'train.json')"
   ]
  },
  {
   "cell_type": "code",
   "execution_count": 5,
   "metadata": {},
   "outputs": [],
   "source": [
    "img2bbox = dict(zip(imgs, lbl_bbox))\n",
    "getters = [lambda o: path/'train'/o, lambda o: img2bbox[o][0], lambda o: img2bbox[o][1]]"
   ]
  },
  {
   "cell_type": "code",
   "execution_count": 9,
   "metadata": {},
   "outputs": [
    {
     "data": {
      "text/plain": [
       "dict_keys(['images', 'type', 'annotations', 'categories'])"
      ]
     },
     "execution_count": 9,
     "metadata": {},
     "output_type": "execute_result"
    }
   ],
   "source": [
    "import json\n",
    "\n",
    "jj = json.load(path/'train.json')\n",
    "jj.keys()"
   ]
  },
  {
   "cell_type": "code",
   "execution_count": 15,
   "metadata": {},
   "outputs": [
    {
     "data": {
      "text/plain": [
       "[{'supercategory': 'none', 'id': 1, 'name': 'aeroplane'},\n",
       " {'supercategory': 'none', 'id': 2, 'name': 'bicycle'},\n",
       " {'supercategory': 'none', 'id': 3, 'name': 'bird'},\n",
       " {'supercategory': 'none', 'id': 4, 'name': 'boat'},\n",
       " {'supercategory': 'none', 'id': 5, 'name': 'bottle'},\n",
       " {'supercategory': 'none', 'id': 6, 'name': 'bus'},\n",
       " {'supercategory': 'none', 'id': 7, 'name': 'car'},\n",
       " {'supercategory': 'none', 'id': 8, 'name': 'cat'},\n",
       " {'supercategory': 'none', 'id': 9, 'name': 'chair'},\n",
       " {'supercategory': 'none', 'id': 10, 'name': 'cow'},\n",
       " {'supercategory': 'none', 'id': 11, 'name': 'diningtable'},\n",
       " {'supercategory': 'none', 'id': 12, 'name': 'dog'},\n",
       " {'supercategory': 'none', 'id': 13, 'name': 'horse'},\n",
       " {'supercategory': 'none', 'id': 14, 'name': 'motorbike'},\n",
       " {'supercategory': 'none', 'id': 15, 'name': 'person'},\n",
       " {'supercategory': 'none', 'id': 16, 'name': 'pottedplant'},\n",
       " {'supercategory': 'none', 'id': 17, 'name': 'sheep'},\n",
       " {'supercategory': 'none', 'id': 18, 'name': 'sofa'},\n",
       " {'supercategory': 'none', 'id': 19, 'name': 'train'},\n",
       " {'supercategory': 'none', 'id': 20, 'name': 'tvmonitor'}]"
      ]
     },
     "execution_count": 15,
     "metadata": {},
     "output_type": "execute_result"
    }
   ],
   "source": [
    "jj['categories']"
   ]
  },
  {
   "cell_type": "code",
   "execution_count": 14,
   "metadata": {},
   "outputs": [
    {
     "data": {
      "text/plain": [
       "20"
      ]
     },
     "execution_count": 14,
     "metadata": {},
     "output_type": "execute_result"
    }
   ],
   "source": [
    "len(jj['categories'])"
   ]
  },
  {
   "cell_type": "code",
   "execution_count": null,
   "metadata": {},
   "outputs": [],
   "source": []
  }
 ],
 "metadata": {
  "kernelspec": {
   "display_name": "Python 3",
   "language": "python",
   "name": "python3"
  },
  "language_info": {
   "codemirror_mode": {
    "name": "ipython",
    "version": 3
   },
   "file_extension": ".py",
   "mimetype": "text/x-python",
   "name": "python",
   "nbconvert_exporter": "python",
   "pygments_lexer": "ipython3",
   "version": "3.7.7"
  }
 },
 "nbformat": 4,
 "nbformat_minor": 4
}

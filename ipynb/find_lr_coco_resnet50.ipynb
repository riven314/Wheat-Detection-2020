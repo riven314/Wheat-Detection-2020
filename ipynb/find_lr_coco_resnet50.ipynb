{
 "cells": [
  {
   "cell_type": "code",
   "execution_count": 1,
   "metadata": {},
   "outputs": [],
   "source": [
    "import os\n",
    "import sys\n",
    "from functools import partial\n",
    "from pathlib import Path\n",
    "\n",
    "path = os.path.join(os.getcwd(), '..')\n",
    "sys.path.append(path)\n",
    "\n",
    "import numpy as np\n",
    "import pandas as pd\n",
    "import matplotlib.pyplot as plt\n",
    "\n",
    "import warnings\n",
    "warnings.filterwarnings('ignore')\n",
    "\n",
    "import torch\n",
    "from fastai2.vision.all import Learner\n",
    "\n",
    "from src.data.dls import build_dataloaders\n",
    "from src.model.model import get_retinanet, split_param_groups\n",
    "from src.metrics.loss import get_retinanet_loss\n",
    "from src.callback.core_cbs import CheckpointCallback, ConfigCallback\n",
    "from src.metrics.mAP import mAP\n",
    "from src.config.retinanet import config"
   ]
  },
  {
   "cell_type": "code",
   "execution_count": null,
   "metadata": {},
   "outputs": [],
   "source": [
    "DATA_PATH = Path('/userhome/34/h3509807/wheat-data')\n",
    "MODEL_DIR = Path('lr_find')\n",
    "RESIZE_SZ = 256\n",
    "RAND_SEED = 144\n",
    "TEST_MODE = False\n",
    "BS = 32\n",
    "ARCH = 'resnet50-coco'\n",
    "BIAS = -2\n",
    "GAMMA = 1.\n",
    "ALPHA = 0.5\n",
    "RATIOS = [0.5, 1, 2.0]\n",
    "SCALES = [1.0, 0.6, 0.3]"
   ]
  },
  {
   "cell_type": "code",
   "execution_count": null,
   "metadata": {},
   "outputs": [],
   "source": [
    "get_dls = partial(build_dataloaders, data_path = DATA_PATH,\n",
    "                  resize_sz = RESIZE_SZ, norm = True,\n",
    "                  rand_seed = RAND_SEED, test_mode = TEST_MODE)\n",
    "dls = get_dls(bs = BS)\n",
    "\n",
    "model = get_retinanet(ARCH, BIAS)\n",
    "retinanet_loss = get_retinanet_loss(gamma = GAMMA, alpha = ALPHA,\n",
    "                                    ratios = RATIOS, scales = SCALES)\n",
    "\n",
    "learn = Learner(dls, model, path = Path('./models'), \n",
    "                model_dir = MODEL_DIR,\n",
    "                loss_func = retinanet_loss, \n",
    "                train_bn = True,\n",
    "                splitter = split_param_groups)\n",
    "learn.freeze()\n",
    "learn.summary()"
   ]
  },
  {
   "cell_type": "code",
   "execution_count": null,
   "metadata": {},
   "outputs": [],
   "source": [
    "learn.lr_find()"
   ]
  }
 ],
 "metadata": {
  "kernelspec": {
   "display_name": "Python 3",
   "language": "python",
   "name": "python3"
  },
  "language_info": {
   "codemirror_mode": {
    "name": "ipython",
    "version": 3
   },
   "file_extension": ".py",
   "mimetype": "text/x-python",
   "name": "python",
   "nbconvert_exporter": "python",
   "pygments_lexer": "ipython3",
   "version": "3.7.7"
  }
 },
 "nbformat": 4,
 "nbformat_minor": 4
}
